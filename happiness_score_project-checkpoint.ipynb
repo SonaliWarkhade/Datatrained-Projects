{
 "cells": [
  {
   "cell_type": "markdown",
   "metadata": {},
   "source": [
    "Problem Statement:\n",
    "Context\n",
    "\n",
    "The World Happiness Report is a landmark survey of the state of global happiness. The first report was published in 2012, the second in 2013, the third in 2015, and the fourth in the 2016 Update. The World Happiness 2017, which ranks 155 countries by their happiness levels, was released at the United Nations at an event celebrating International Day of Happiness on March 20th. The report continues to gain global recognition as governments, organizations and civil society increasingly use happiness indicators to inform their policy-making decisions. Leading experts across fields – economics, psychology, survey analysis, national statistics, health, public policy and more – describe how measurements of well-being can be used effectively to assess the progress of nations. The reports review the state of happiness in the world today and show how the new science of happiness explains personal and national variations in happiness.\n",
    "\n",
    "Content\n",
    "\n",
    "The happiness scores and rankings use data from the Gallup World Poll. The scores are based on answers to the main life evaluation question asked in the poll. This question, known as the Cantril ladder, asks respondents to think of a ladder with the best possible life for them being a 10 and the worst possible life being a 0 and to rate their own current lives on that scale. The scores are from nationally representative samples for the years 2013-2016 and use the Gallup weights to make the estimates representative. The columns following the happiness score estimate the extent to which each of six factors – economic production, social support, life expectancy, freedom, absence of corruption, and generosity – contribute to making life evaluations higher in each country than they are in Dystopia, a hypothetical country that has values equal to the world’s lowest national averages for each of the six factors. They have no impact on the total score reported for each country, but they do explain why some countries rank higher than others.\n",
    "\n",
    "Inspiration\n",
    "\n",
    "What countries or regions rank the highest in overall happiness and each of the six factors contributing to happiness? How did country ranks or scores change between the 2015 and 2016 as well as the 2016 and 2017 reports? Did any country experience a significant increase or decrease in happiness?\n",
    "\n",
    "What is Dystopia?\n",
    "\n",
    "Dystopia is an imaginary country that has the world’s least-happy people. The purpose in establishing Dystopia is to have a benchmark against which all countries can be favorably compared (no country performs more poorly than Dystopia) in terms of each of the six key variables, thus allowing each sub-bar to be of positive width. The lowest scores observed for the six key variables, therefore, characterize Dystopia. Since life would be very unpleasant in a country with the world’s lowest incomes, lowest life expectancy, lowest generosity, most corruption, least freedom and least social support, it is referred to as “Dystopia,” in contrast to Utopia.\n",
    "\n",
    "What are the residuals?\n",
    "\n",
    "The residuals, or unexplained components, differ for each country, reflecting the extent to which the six variables either over- or under-explain average 2014-2016 life evaluations. These residuals have an average value of approximately zero over the whole set of countries. Figure 2.2 shows the average residual for each country when the equation in Table 2.1 is applied to average 2014- 2016 data for the six variables in that country. We combine these residuals with the estimate for life evaluations in Dystopia so that the combined bar will always have positive values. As can be seen in Figure 2.2, although some life evaluation residuals are quite large, occasionally exceeding one point on the scale from 0 to 10, they are always much smaller than the calculated value in Dystopia, where the average life is rated at 1.85 on the 0 to 10 scale.\n",
    "\n",
    "What do the columns succeeding the Happiness Score(like Family, Generosity, etc.) describe?\n",
    "\n",
    "The following columns: GDP per Capita, Family, Life Expectancy, Freedom, Generosity, Trust Government Corruption describe the extent to which these factors contribute in evaluating the happiness in each country.\n",
    "The Dystopia Residual metric actually is the Dystopia Happiness Score(1.85) + the Residual value or the unexplained value for each country as stated in the previous answer.\n",
    "\n",
    "If you add all these factors up, you get the happiness score so it might be un-reliable to model them to predict Happiness Scores."
   ]
  },
  {
   "cell_type": "code",
   "execution_count": 1,
   "metadata": {},
   "outputs": [],
   "source": [
    "import numpy as np\n",
    "import pandas as pd\n",
    "import seaborn as sns\n",
    "import matplotlib.pyplot as plt\n",
    "from sklearn.linear_model import LinearRegression\n",
    "from sklearn.metrics import mean_absolute_error,mean_squared_error\n",
    "from sklearn.model_selection import train_test_split, cross_val_score\n",
    "\n",
    "import warnings\n",
    "warnings.filterwarnings('ignore')"
   ]
  },
  {
   "cell_type": "code",
   "execution_count": 2,
   "metadata": {},
   "outputs": [
    {
     "data": {
      "text/html": [
       "<div>\n",
       "<style scoped>\n",
       "    .dataframe tbody tr th:only-of-type {\n",
       "        vertical-align: middle;\n",
       "    }\n",
       "\n",
       "    .dataframe tbody tr th {\n",
       "        vertical-align: top;\n",
       "    }\n",
       "\n",
       "    .dataframe thead th {\n",
       "        text-align: right;\n",
       "    }\n",
       "</style>\n",
       "<table border=\"1\" class=\"dataframe\">\n",
       "  <thead>\n",
       "    <tr style=\"text-align: right;\">\n",
       "      <th></th>\n",
       "      <th>Country</th>\n",
       "      <th>Region</th>\n",
       "      <th>Happiness Rank</th>\n",
       "      <th>Happiness Score</th>\n",
       "      <th>Standard Error</th>\n",
       "      <th>Economy (GDP per Capita)</th>\n",
       "      <th>Family</th>\n",
       "      <th>Health (Life Expectancy)</th>\n",
       "      <th>Freedom</th>\n",
       "      <th>Trust (Government Corruption)</th>\n",
       "      <th>Generosity</th>\n",
       "      <th>Dystopia Residual</th>\n",
       "    </tr>\n",
       "  </thead>\n",
       "  <tbody>\n",
       "    <tr>\n",
       "      <th>0</th>\n",
       "      <td>Switzerland</td>\n",
       "      <td>Western Europe</td>\n",
       "      <td>1</td>\n",
       "      <td>7.587</td>\n",
       "      <td>0.03411</td>\n",
       "      <td>1.39651</td>\n",
       "      <td>1.34951</td>\n",
       "      <td>0.94143</td>\n",
       "      <td>0.66557</td>\n",
       "      <td>0.41978</td>\n",
       "      <td>0.29678</td>\n",
       "      <td>2.51738</td>\n",
       "    </tr>\n",
       "    <tr>\n",
       "      <th>1</th>\n",
       "      <td>Iceland</td>\n",
       "      <td>Western Europe</td>\n",
       "      <td>2</td>\n",
       "      <td>7.561</td>\n",
       "      <td>0.04884</td>\n",
       "      <td>1.30232</td>\n",
       "      <td>1.40223</td>\n",
       "      <td>0.94784</td>\n",
       "      <td>0.62877</td>\n",
       "      <td>0.14145</td>\n",
       "      <td>0.43630</td>\n",
       "      <td>2.70201</td>\n",
       "    </tr>\n",
       "    <tr>\n",
       "      <th>2</th>\n",
       "      <td>Denmark</td>\n",
       "      <td>Western Europe</td>\n",
       "      <td>3</td>\n",
       "      <td>7.527</td>\n",
       "      <td>0.03328</td>\n",
       "      <td>1.32548</td>\n",
       "      <td>1.36058</td>\n",
       "      <td>0.87464</td>\n",
       "      <td>0.64938</td>\n",
       "      <td>0.48357</td>\n",
       "      <td>0.34139</td>\n",
       "      <td>2.49204</td>\n",
       "    </tr>\n",
       "    <tr>\n",
       "      <th>3</th>\n",
       "      <td>Norway</td>\n",
       "      <td>Western Europe</td>\n",
       "      <td>4</td>\n",
       "      <td>7.522</td>\n",
       "      <td>0.03880</td>\n",
       "      <td>1.45900</td>\n",
       "      <td>1.33095</td>\n",
       "      <td>0.88521</td>\n",
       "      <td>0.66973</td>\n",
       "      <td>0.36503</td>\n",
       "      <td>0.34699</td>\n",
       "      <td>2.46531</td>\n",
       "    </tr>\n",
       "    <tr>\n",
       "      <th>4</th>\n",
       "      <td>Canada</td>\n",
       "      <td>North America</td>\n",
       "      <td>5</td>\n",
       "      <td>7.427</td>\n",
       "      <td>0.03553</td>\n",
       "      <td>1.32629</td>\n",
       "      <td>1.32261</td>\n",
       "      <td>0.90563</td>\n",
       "      <td>0.63297</td>\n",
       "      <td>0.32957</td>\n",
       "      <td>0.45811</td>\n",
       "      <td>2.45176</td>\n",
       "    </tr>\n",
       "    <tr>\n",
       "      <th>...</th>\n",
       "      <td>...</td>\n",
       "      <td>...</td>\n",
       "      <td>...</td>\n",
       "      <td>...</td>\n",
       "      <td>...</td>\n",
       "      <td>...</td>\n",
       "      <td>...</td>\n",
       "      <td>...</td>\n",
       "      <td>...</td>\n",
       "      <td>...</td>\n",
       "      <td>...</td>\n",
       "      <td>...</td>\n",
       "    </tr>\n",
       "    <tr>\n",
       "      <th>153</th>\n",
       "      <td>Rwanda</td>\n",
       "      <td>Sub-Saharan Africa</td>\n",
       "      <td>154</td>\n",
       "      <td>3.465</td>\n",
       "      <td>0.03464</td>\n",
       "      <td>0.22208</td>\n",
       "      <td>0.77370</td>\n",
       "      <td>0.42864</td>\n",
       "      <td>0.59201</td>\n",
       "      <td>0.55191</td>\n",
       "      <td>0.22628</td>\n",
       "      <td>0.67042</td>\n",
       "    </tr>\n",
       "    <tr>\n",
       "      <th>154</th>\n",
       "      <td>Benin</td>\n",
       "      <td>Sub-Saharan Africa</td>\n",
       "      <td>155</td>\n",
       "      <td>3.340</td>\n",
       "      <td>0.03656</td>\n",
       "      <td>0.28665</td>\n",
       "      <td>0.35386</td>\n",
       "      <td>0.31910</td>\n",
       "      <td>0.48450</td>\n",
       "      <td>0.08010</td>\n",
       "      <td>0.18260</td>\n",
       "      <td>1.63328</td>\n",
       "    </tr>\n",
       "    <tr>\n",
       "      <th>155</th>\n",
       "      <td>Syria</td>\n",
       "      <td>Middle East and Northern Africa</td>\n",
       "      <td>156</td>\n",
       "      <td>3.006</td>\n",
       "      <td>0.05015</td>\n",
       "      <td>0.66320</td>\n",
       "      <td>0.47489</td>\n",
       "      <td>0.72193</td>\n",
       "      <td>0.15684</td>\n",
       "      <td>0.18906</td>\n",
       "      <td>0.47179</td>\n",
       "      <td>0.32858</td>\n",
       "    </tr>\n",
       "    <tr>\n",
       "      <th>156</th>\n",
       "      <td>Burundi</td>\n",
       "      <td>Sub-Saharan Africa</td>\n",
       "      <td>157</td>\n",
       "      <td>2.905</td>\n",
       "      <td>0.08658</td>\n",
       "      <td>0.01530</td>\n",
       "      <td>0.41587</td>\n",
       "      <td>0.22396</td>\n",
       "      <td>0.11850</td>\n",
       "      <td>0.10062</td>\n",
       "      <td>0.19727</td>\n",
       "      <td>1.83302</td>\n",
       "    </tr>\n",
       "    <tr>\n",
       "      <th>157</th>\n",
       "      <td>Togo</td>\n",
       "      <td>Sub-Saharan Africa</td>\n",
       "      <td>158</td>\n",
       "      <td>2.839</td>\n",
       "      <td>0.06727</td>\n",
       "      <td>0.20868</td>\n",
       "      <td>0.13995</td>\n",
       "      <td>0.28443</td>\n",
       "      <td>0.36453</td>\n",
       "      <td>0.10731</td>\n",
       "      <td>0.16681</td>\n",
       "      <td>1.56726</td>\n",
       "    </tr>\n",
       "  </tbody>\n",
       "</table>\n",
       "<p>158 rows × 12 columns</p>\n",
       "</div>"
      ],
      "text/plain": [
       "         Country                           Region  Happiness Rank  \\\n",
       "0    Switzerland                   Western Europe               1   \n",
       "1        Iceland                   Western Europe               2   \n",
       "2        Denmark                   Western Europe               3   \n",
       "3         Norway                   Western Europe               4   \n",
       "4         Canada                    North America               5   \n",
       "..           ...                              ...             ...   \n",
       "153       Rwanda               Sub-Saharan Africa             154   \n",
       "154        Benin               Sub-Saharan Africa             155   \n",
       "155        Syria  Middle East and Northern Africa             156   \n",
       "156      Burundi               Sub-Saharan Africa             157   \n",
       "157         Togo               Sub-Saharan Africa             158   \n",
       "\n",
       "     Happiness Score  Standard Error  Economy (GDP per Capita)   Family  \\\n",
       "0              7.587         0.03411                   1.39651  1.34951   \n",
       "1              7.561         0.04884                   1.30232  1.40223   \n",
       "2              7.527         0.03328                   1.32548  1.36058   \n",
       "3              7.522         0.03880                   1.45900  1.33095   \n",
       "4              7.427         0.03553                   1.32629  1.32261   \n",
       "..               ...             ...                       ...      ...   \n",
       "153            3.465         0.03464                   0.22208  0.77370   \n",
       "154            3.340         0.03656                   0.28665  0.35386   \n",
       "155            3.006         0.05015                   0.66320  0.47489   \n",
       "156            2.905         0.08658                   0.01530  0.41587   \n",
       "157            2.839         0.06727                   0.20868  0.13995   \n",
       "\n",
       "     Health (Life Expectancy)  Freedom  Trust (Government Corruption)  \\\n",
       "0                     0.94143  0.66557                        0.41978   \n",
       "1                     0.94784  0.62877                        0.14145   \n",
       "2                     0.87464  0.64938                        0.48357   \n",
       "3                     0.88521  0.66973                        0.36503   \n",
       "4                     0.90563  0.63297                        0.32957   \n",
       "..                        ...      ...                            ...   \n",
       "153                   0.42864  0.59201                        0.55191   \n",
       "154                   0.31910  0.48450                        0.08010   \n",
       "155                   0.72193  0.15684                        0.18906   \n",
       "156                   0.22396  0.11850                        0.10062   \n",
       "157                   0.28443  0.36453                        0.10731   \n",
       "\n",
       "     Generosity  Dystopia Residual  \n",
       "0       0.29678            2.51738  \n",
       "1       0.43630            2.70201  \n",
       "2       0.34139            2.49204  \n",
       "3       0.34699            2.46531  \n",
       "4       0.45811            2.45176  \n",
       "..          ...                ...  \n",
       "153     0.22628            0.67042  \n",
       "154     0.18260            1.63328  \n",
       "155     0.47179            0.32858  \n",
       "156     0.19727            1.83302  \n",
       "157     0.16681            1.56726  \n",
       "\n",
       "[158 rows x 12 columns]"
      ]
     },
     "execution_count": 2,
     "metadata": {},
     "output_type": "execute_result"
    }
   ],
   "source": [
    "data=pd.read_csv('happiness_score_dataset.csv')\n",
    "data=pd.DataFrame(data=data)\n",
    "data"
   ]
  },
  {
   "cell_type": "code",
   "execution_count": 3,
   "metadata": {},
   "outputs": [
    {
     "data": {
      "text/plain": [
       "Index(['Country', 'Region', 'Happiness Rank', 'Happiness Score',\n",
       "       'Standard Error', 'Economy (GDP per Capita)', 'Family',\n",
       "       'Health (Life Expectancy)', 'Freedom', 'Trust (Government Corruption)',\n",
       "       'Generosity', 'Dystopia Residual'],\n",
       "      dtype='object')"
      ]
     },
     "execution_count": 3,
     "metadata": {},
     "output_type": "execute_result"
    }
   ],
   "source": [
    "data.columns"
   ]
  },
  {
   "cell_type": "code",
   "execution_count": 4,
   "metadata": {},
   "outputs": [
    {
     "data": {
      "text/plain": [
       "(158, 12)"
      ]
     },
     "execution_count": 4,
     "metadata": {},
     "output_type": "execute_result"
    }
   ],
   "source": [
    "data.shape"
   ]
  },
  {
   "cell_type": "raw",
   "metadata": {},
   "source": [
    "Our dataset has 158 rows anf 12 columns"
   ]
  },
  {
   "cell_type": "code",
   "execution_count": 5,
   "metadata": {},
   "outputs": [
    {
     "data": {
      "text/plain": [
       "Country                           object\n",
       "Region                            object\n",
       "Happiness Rank                     int64\n",
       "Happiness Score                  float64\n",
       "Standard Error                   float64\n",
       "Economy (GDP per Capita)         float64\n",
       "Family                           float64\n",
       "Health (Life Expectancy)         float64\n",
       "Freedom                          float64\n",
       "Trust (Government Corruption)    float64\n",
       "Generosity                       float64\n",
       "Dystopia Residual                float64\n",
       "dtype: object"
      ]
     },
     "execution_count": 5,
     "metadata": {},
     "output_type": "execute_result"
    }
   ],
   "source": [
    "data.dtypes"
   ]
  },
  {
   "cell_type": "code",
   "execution_count": 6,
   "metadata": {},
   "outputs": [],
   "source": [
    " data.drop(['Country','Region','Happiness Rank'],axis=1,inplace=True)"
   ]
  },
  {
   "cell_type": "raw",
   "metadata": {},
   "source": [
    "Country and Region both details are not impacting happiness score.\n",
    "Also where the happiness score is high its ranked at top and lowerest is on the bottom, hence we have dropped this three columns."
   ]
  },
  {
   "cell_type": "code",
   "execution_count": 7,
   "metadata": {},
   "outputs": [
    {
     "data": {
      "text/html": [
       "<div>\n",
       "<style scoped>\n",
       "    .dataframe tbody tr th:only-of-type {\n",
       "        vertical-align: middle;\n",
       "    }\n",
       "\n",
       "    .dataframe tbody tr th {\n",
       "        vertical-align: top;\n",
       "    }\n",
       "\n",
       "    .dataframe thead th {\n",
       "        text-align: right;\n",
       "    }\n",
       "</style>\n",
       "<table border=\"1\" class=\"dataframe\">\n",
       "  <thead>\n",
       "    <tr style=\"text-align: right;\">\n",
       "      <th></th>\n",
       "      <th>Happiness Score</th>\n",
       "      <th>Standard Error</th>\n",
       "      <th>Economy (GDP per Capita)</th>\n",
       "      <th>Family</th>\n",
       "      <th>Health (Life Expectancy)</th>\n",
       "      <th>Freedom</th>\n",
       "      <th>Trust (Government Corruption)</th>\n",
       "      <th>Generosity</th>\n",
       "      <th>Dystopia Residual</th>\n",
       "    </tr>\n",
       "  </thead>\n",
       "  <tbody>\n",
       "    <tr>\n",
       "      <th>0</th>\n",
       "      <td>7.587</td>\n",
       "      <td>0.03411</td>\n",
       "      <td>1.39651</td>\n",
       "      <td>1.34951</td>\n",
       "      <td>0.94143</td>\n",
       "      <td>0.66557</td>\n",
       "      <td>0.41978</td>\n",
       "      <td>0.29678</td>\n",
       "      <td>2.51738</td>\n",
       "    </tr>\n",
       "    <tr>\n",
       "      <th>1</th>\n",
       "      <td>7.561</td>\n",
       "      <td>0.04884</td>\n",
       "      <td>1.30232</td>\n",
       "      <td>1.40223</td>\n",
       "      <td>0.94784</td>\n",
       "      <td>0.62877</td>\n",
       "      <td>0.14145</td>\n",
       "      <td>0.43630</td>\n",
       "      <td>2.70201</td>\n",
       "    </tr>\n",
       "    <tr>\n",
       "      <th>2</th>\n",
       "      <td>7.527</td>\n",
       "      <td>0.03328</td>\n",
       "      <td>1.32548</td>\n",
       "      <td>1.36058</td>\n",
       "      <td>0.87464</td>\n",
       "      <td>0.64938</td>\n",
       "      <td>0.48357</td>\n",
       "      <td>0.34139</td>\n",
       "      <td>2.49204</td>\n",
       "    </tr>\n",
       "    <tr>\n",
       "      <th>3</th>\n",
       "      <td>7.522</td>\n",
       "      <td>0.03880</td>\n",
       "      <td>1.45900</td>\n",
       "      <td>1.33095</td>\n",
       "      <td>0.88521</td>\n",
       "      <td>0.66973</td>\n",
       "      <td>0.36503</td>\n",
       "      <td>0.34699</td>\n",
       "      <td>2.46531</td>\n",
       "    </tr>\n",
       "    <tr>\n",
       "      <th>4</th>\n",
       "      <td>7.427</td>\n",
       "      <td>0.03553</td>\n",
       "      <td>1.32629</td>\n",
       "      <td>1.32261</td>\n",
       "      <td>0.90563</td>\n",
       "      <td>0.63297</td>\n",
       "      <td>0.32957</td>\n",
       "      <td>0.45811</td>\n",
       "      <td>2.45176</td>\n",
       "    </tr>\n",
       "    <tr>\n",
       "      <th>...</th>\n",
       "      <td>...</td>\n",
       "      <td>...</td>\n",
       "      <td>...</td>\n",
       "      <td>...</td>\n",
       "      <td>...</td>\n",
       "      <td>...</td>\n",
       "      <td>...</td>\n",
       "      <td>...</td>\n",
       "      <td>...</td>\n",
       "    </tr>\n",
       "    <tr>\n",
       "      <th>153</th>\n",
       "      <td>3.465</td>\n",
       "      <td>0.03464</td>\n",
       "      <td>0.22208</td>\n",
       "      <td>0.77370</td>\n",
       "      <td>0.42864</td>\n",
       "      <td>0.59201</td>\n",
       "      <td>0.55191</td>\n",
       "      <td>0.22628</td>\n",
       "      <td>0.67042</td>\n",
       "    </tr>\n",
       "    <tr>\n",
       "      <th>154</th>\n",
       "      <td>3.340</td>\n",
       "      <td>0.03656</td>\n",
       "      <td>0.28665</td>\n",
       "      <td>0.35386</td>\n",
       "      <td>0.31910</td>\n",
       "      <td>0.48450</td>\n",
       "      <td>0.08010</td>\n",
       "      <td>0.18260</td>\n",
       "      <td>1.63328</td>\n",
       "    </tr>\n",
       "    <tr>\n",
       "      <th>155</th>\n",
       "      <td>3.006</td>\n",
       "      <td>0.05015</td>\n",
       "      <td>0.66320</td>\n",
       "      <td>0.47489</td>\n",
       "      <td>0.72193</td>\n",
       "      <td>0.15684</td>\n",
       "      <td>0.18906</td>\n",
       "      <td>0.47179</td>\n",
       "      <td>0.32858</td>\n",
       "    </tr>\n",
       "    <tr>\n",
       "      <th>156</th>\n",
       "      <td>2.905</td>\n",
       "      <td>0.08658</td>\n",
       "      <td>0.01530</td>\n",
       "      <td>0.41587</td>\n",
       "      <td>0.22396</td>\n",
       "      <td>0.11850</td>\n",
       "      <td>0.10062</td>\n",
       "      <td>0.19727</td>\n",
       "      <td>1.83302</td>\n",
       "    </tr>\n",
       "    <tr>\n",
       "      <th>157</th>\n",
       "      <td>2.839</td>\n",
       "      <td>0.06727</td>\n",
       "      <td>0.20868</td>\n",
       "      <td>0.13995</td>\n",
       "      <td>0.28443</td>\n",
       "      <td>0.36453</td>\n",
       "      <td>0.10731</td>\n",
       "      <td>0.16681</td>\n",
       "      <td>1.56726</td>\n",
       "    </tr>\n",
       "  </tbody>\n",
       "</table>\n",
       "<p>158 rows × 9 columns</p>\n",
       "</div>"
      ],
      "text/plain": [
       "     Happiness Score  Standard Error  Economy (GDP per Capita)   Family  \\\n",
       "0              7.587         0.03411                   1.39651  1.34951   \n",
       "1              7.561         0.04884                   1.30232  1.40223   \n",
       "2              7.527         0.03328                   1.32548  1.36058   \n",
       "3              7.522         0.03880                   1.45900  1.33095   \n",
       "4              7.427         0.03553                   1.32629  1.32261   \n",
       "..               ...             ...                       ...      ...   \n",
       "153            3.465         0.03464                   0.22208  0.77370   \n",
       "154            3.340         0.03656                   0.28665  0.35386   \n",
       "155            3.006         0.05015                   0.66320  0.47489   \n",
       "156            2.905         0.08658                   0.01530  0.41587   \n",
       "157            2.839         0.06727                   0.20868  0.13995   \n",
       "\n",
       "     Health (Life Expectancy)  Freedom  Trust (Government Corruption)  \\\n",
       "0                     0.94143  0.66557                        0.41978   \n",
       "1                     0.94784  0.62877                        0.14145   \n",
       "2                     0.87464  0.64938                        0.48357   \n",
       "3                     0.88521  0.66973                        0.36503   \n",
       "4                     0.90563  0.63297                        0.32957   \n",
       "..                        ...      ...                            ...   \n",
       "153                   0.42864  0.59201                        0.55191   \n",
       "154                   0.31910  0.48450                        0.08010   \n",
       "155                   0.72193  0.15684                        0.18906   \n",
       "156                   0.22396  0.11850                        0.10062   \n",
       "157                   0.28443  0.36453                        0.10731   \n",
       "\n",
       "     Generosity  Dystopia Residual  \n",
       "0       0.29678            2.51738  \n",
       "1       0.43630            2.70201  \n",
       "2       0.34139            2.49204  \n",
       "3       0.34699            2.46531  \n",
       "4       0.45811            2.45176  \n",
       "..          ...                ...  \n",
       "153     0.22628            0.67042  \n",
       "154     0.18260            1.63328  \n",
       "155     0.47179            0.32858  \n",
       "156     0.19727            1.83302  \n",
       "157     0.16681            1.56726  \n",
       "\n",
       "[158 rows x 9 columns]"
      ]
     },
     "execution_count": 7,
     "metadata": {},
     "output_type": "execute_result"
    }
   ],
   "source": [
    "data"
   ]
  },
  {
   "cell_type": "raw",
   "metadata": {},
   "source": [
    "As we can see now all the data is in numbers now hence we dont need to follow any encoding techinque."
   ]
  },
  {
   "cell_type": "code",
   "execution_count": 8,
   "metadata": {},
   "outputs": [
    {
     "data": {
      "text/html": [
       "<div>\n",
       "<style scoped>\n",
       "    .dataframe tbody tr th:only-of-type {\n",
       "        vertical-align: middle;\n",
       "    }\n",
       "\n",
       "    .dataframe tbody tr th {\n",
       "        vertical-align: top;\n",
       "    }\n",
       "\n",
       "    .dataframe thead th {\n",
       "        text-align: right;\n",
       "    }\n",
       "</style>\n",
       "<table border=\"1\" class=\"dataframe\">\n",
       "  <thead>\n",
       "    <tr style=\"text-align: right;\">\n",
       "      <th></th>\n",
       "      <th>Happiness Score</th>\n",
       "      <th>Standard Error</th>\n",
       "      <th>Economy (GDP per Capita)</th>\n",
       "      <th>Family</th>\n",
       "      <th>Health (Life Expectancy)</th>\n",
       "      <th>Freedom</th>\n",
       "      <th>Trust (Government Corruption)</th>\n",
       "      <th>Generosity</th>\n",
       "      <th>Dystopia Residual</th>\n",
       "    </tr>\n",
       "  </thead>\n",
       "  <tbody>\n",
       "    <tr>\n",
       "      <th>count</th>\n",
       "      <td>158.000000</td>\n",
       "      <td>158.000000</td>\n",
       "      <td>158.000000</td>\n",
       "      <td>158.000000</td>\n",
       "      <td>158.000000</td>\n",
       "      <td>158.000000</td>\n",
       "      <td>158.000000</td>\n",
       "      <td>158.000000</td>\n",
       "      <td>158.000000</td>\n",
       "    </tr>\n",
       "    <tr>\n",
       "      <th>mean</th>\n",
       "      <td>5.375734</td>\n",
       "      <td>0.047885</td>\n",
       "      <td>0.846137</td>\n",
       "      <td>0.991046</td>\n",
       "      <td>0.630259</td>\n",
       "      <td>0.428615</td>\n",
       "      <td>0.143422</td>\n",
       "      <td>0.237296</td>\n",
       "      <td>2.098977</td>\n",
       "    </tr>\n",
       "    <tr>\n",
       "      <th>std</th>\n",
       "      <td>1.145010</td>\n",
       "      <td>0.017146</td>\n",
       "      <td>0.403121</td>\n",
       "      <td>0.272369</td>\n",
       "      <td>0.247078</td>\n",
       "      <td>0.150693</td>\n",
       "      <td>0.120034</td>\n",
       "      <td>0.126685</td>\n",
       "      <td>0.553550</td>\n",
       "    </tr>\n",
       "    <tr>\n",
       "      <th>min</th>\n",
       "      <td>2.839000</td>\n",
       "      <td>0.018480</td>\n",
       "      <td>0.000000</td>\n",
       "      <td>0.000000</td>\n",
       "      <td>0.000000</td>\n",
       "      <td>0.000000</td>\n",
       "      <td>0.000000</td>\n",
       "      <td>0.000000</td>\n",
       "      <td>0.328580</td>\n",
       "    </tr>\n",
       "    <tr>\n",
       "      <th>25%</th>\n",
       "      <td>4.526000</td>\n",
       "      <td>0.037268</td>\n",
       "      <td>0.545808</td>\n",
       "      <td>0.856823</td>\n",
       "      <td>0.439185</td>\n",
       "      <td>0.328330</td>\n",
       "      <td>0.061675</td>\n",
       "      <td>0.150553</td>\n",
       "      <td>1.759410</td>\n",
       "    </tr>\n",
       "    <tr>\n",
       "      <th>50%</th>\n",
       "      <td>5.232500</td>\n",
       "      <td>0.043940</td>\n",
       "      <td>0.910245</td>\n",
       "      <td>1.029510</td>\n",
       "      <td>0.696705</td>\n",
       "      <td>0.435515</td>\n",
       "      <td>0.107220</td>\n",
       "      <td>0.216130</td>\n",
       "      <td>2.095415</td>\n",
       "    </tr>\n",
       "    <tr>\n",
       "      <th>75%</th>\n",
       "      <td>6.243750</td>\n",
       "      <td>0.052300</td>\n",
       "      <td>1.158448</td>\n",
       "      <td>1.214405</td>\n",
       "      <td>0.811013</td>\n",
       "      <td>0.549092</td>\n",
       "      <td>0.180255</td>\n",
       "      <td>0.309883</td>\n",
       "      <td>2.462415</td>\n",
       "    </tr>\n",
       "    <tr>\n",
       "      <th>max</th>\n",
       "      <td>7.587000</td>\n",
       "      <td>0.136930</td>\n",
       "      <td>1.690420</td>\n",
       "      <td>1.402230</td>\n",
       "      <td>1.025250</td>\n",
       "      <td>0.669730</td>\n",
       "      <td>0.551910</td>\n",
       "      <td>0.795880</td>\n",
       "      <td>3.602140</td>\n",
       "    </tr>\n",
       "  </tbody>\n",
       "</table>\n",
       "</div>"
      ],
      "text/plain": [
       "       Happiness Score  Standard Error  Economy (GDP per Capita)      Family  \\\n",
       "count       158.000000      158.000000                158.000000  158.000000   \n",
       "mean          5.375734        0.047885                  0.846137    0.991046   \n",
       "std           1.145010        0.017146                  0.403121    0.272369   \n",
       "min           2.839000        0.018480                  0.000000    0.000000   \n",
       "25%           4.526000        0.037268                  0.545808    0.856823   \n",
       "50%           5.232500        0.043940                  0.910245    1.029510   \n",
       "75%           6.243750        0.052300                  1.158448    1.214405   \n",
       "max           7.587000        0.136930                  1.690420    1.402230   \n",
       "\n",
       "       Health (Life Expectancy)     Freedom  Trust (Government Corruption)  \\\n",
       "count                158.000000  158.000000                     158.000000   \n",
       "mean                   0.630259    0.428615                       0.143422   \n",
       "std                    0.247078    0.150693                       0.120034   \n",
       "min                    0.000000    0.000000                       0.000000   \n",
       "25%                    0.439185    0.328330                       0.061675   \n",
       "50%                    0.696705    0.435515                       0.107220   \n",
       "75%                    0.811013    0.549092                       0.180255   \n",
       "max                    1.025250    0.669730                       0.551910   \n",
       "\n",
       "       Generosity  Dystopia Residual  \n",
       "count  158.000000         158.000000  \n",
       "mean     0.237296           2.098977  \n",
       "std      0.126685           0.553550  \n",
       "min      0.000000           0.328580  \n",
       "25%      0.150553           1.759410  \n",
       "50%      0.216130           2.095415  \n",
       "75%      0.309883           2.462415  \n",
       "max      0.795880           3.602140  "
      ]
     },
     "execution_count": 8,
     "metadata": {},
     "output_type": "execute_result"
    }
   ],
   "source": [
    "data.describe()"
   ]
  },
  {
   "cell_type": "raw",
   "metadata": {},
   "source": [
    "Data is almost in the same range hence no need to apply any regularization technique i.e. Stanadard scalar or minmax scalar."
   ]
  },
  {
   "cell_type": "code",
   "execution_count": 9,
   "metadata": {},
   "outputs": [
    {
     "data": {
      "text/plain": [
       "Happiness Score                  0\n",
       "Standard Error                   0\n",
       "Economy (GDP per Capita)         0\n",
       "Family                           0\n",
       "Health (Life Expectancy)         0\n",
       "Freedom                          0\n",
       "Trust (Government Corruption)    0\n",
       "Generosity                       0\n",
       "Dystopia Residual                0\n",
       "dtype: int64"
      ]
     },
     "execution_count": 9,
     "metadata": {},
     "output_type": "execute_result"
    }
   ],
   "source": [
    "data.isnull().sum()"
   ]
  },
  {
   "cell_type": "raw",
   "metadata": {},
   "source": [
    "There is no missing value, showing the same thing with visualization below:"
   ]
  },
  {
   "cell_type": "code",
   "execution_count": 10,
   "metadata": {},
   "outputs": [
    {
     "data": {
      "text/plain": [
       "<matplotlib.axes._subplots.AxesSubplot at 0x18af0597af0>"
      ]
     },
     "execution_count": 10,
     "metadata": {},
     "output_type": "execute_result"
    },
    {
     "data": {
      "image/png": "[encoded data removed]",
      "text/plain": [
       "<Figure size 432x288 with 2 Axes>"
      ]
     },
     "metadata": {
      "needs_background": "light"
     },
     "output_type": "display_data"
    }
   ],
   "source": [
    "sns.heatmap(data.isnull())"
   ]
  },
  {
   "cell_type": "code",
   "execution_count": 11,
   "metadata": {},
   "outputs": [
    {
     "data": {
      "image/png": "[encoded data removed]",
      "text/plain": [
       "<Figure size 864x864 with 2 Axes>"
      ]
     },
     "metadata": {
      "needs_background": "light"
     },
     "output_type": "display_data"
    }
   ],
   "source": [
    "plt.figure(figsize=(12,12))\n",
    "sns.heatmap(data.corr(),annot=True)\n",
    "plt.show()"
   ]
  },
  {
   "cell_type": "raw",
   "metadata": {},
   "source": [
    "Happiness score has good positive correlation with Economy (GDP per Capita), Family, Health (Life Expectancy) and then Freedom.\n",
    "Also it has negative correlation with Standard Error.\n"
   ]
  },
  {
   "cell_type": "code",
   "execution_count": 12,
   "metadata": {},
   "outputs": [
    {
     "data": {
      "image/png": "[encoded data removed]",
      "text/plain": [
       "<Figure size 432x288 with 1 Axes>"
      ]
     },
     "metadata": {
      "needs_background": "light"
     },
     "output_type": "display_data"
    }
   ],
   "source": [
    "plt.scatter(x=data['Economy (GDP per Capita)'], y=data['Happiness Score'])\n",
    "plt.show()"
   ]
  },
  {
   "cell_type": "raw",
   "metadata": {},
   "source": [
    "Above scatterplot shows that Economy (GDP per Capita) & Happiness Score has positive linear relation."
   ]
  },
  {
   "cell_type": "code",
   "execution_count": 16,
   "metadata": {},
   "outputs": [],
   "source": [
    "y=data['Happiness Score']\n",
    "x=data.drop('Happiness Score', axis=1)"
   ]
  },
  {
   "cell_type": "code",
   "execution_count": 17,
   "metadata": {},
   "outputs": [
    {
     "data": {
      "text/plain": [
       "Standard Error                      AxesSubplot(0.125,0.536818;0.133621x0.343182)\n",
       "Economy (GDP per Capita)         AxesSubplot(0.285345,0.536818;0.133621x0.343182)\n",
       "Family                            AxesSubplot(0.44569,0.536818;0.133621x0.343182)\n",
       "Health (Life Expectancy)         AxesSubplot(0.606034,0.536818;0.133621x0.343182)\n",
       "Freedom                          AxesSubplot(0.766379,0.536818;0.133621x0.343182)\n",
       "Trust (Government Corruption)          AxesSubplot(0.125,0.125;0.133621x0.343182)\n",
       "Generosity                          AxesSubplot(0.285345,0.125;0.133621x0.343182)\n",
       "Dystopia Residual                    AxesSubplot(0.44569,0.125;0.133621x0.343182)\n",
       "dtype: object"
      ]
     },
     "execution_count": 17,
     "metadata": {},
     "output_type": "execute_result"
    },
    {
     "data": {
      "image/png": "[encoded data removed]",
      "text/plain": [
       "<Figure size 432x288 with 10 Axes>"
      ]
     },
     "metadata": {
      "needs_background": "light"
     },
     "output_type": "display_data"
    }
   ],
   "source": [
    "x.plot(kind='box', subplots=True, layout=(2,5))"
   ]
  },
  {
   "cell_type": "raw",
   "metadata": {},
   "source": [
    "Above boxplot show that Standard Error and Trust (Government Corruption) has too many outliers.\n",
    "Family, Generosity and Dystopia Residual has some outliers.\n",
    "Economy (GDP per Capita), Health (Life Expectancy) and Freedom does not contain any outliers."
   ]
  },
  {
   "cell_type": "code",
   "execution_count": 18,
   "metadata": {
    "scrolled": false
   },
   "outputs": [
    {
     "name": "stdout",
     "output_type": "stream",
     "text": [
      "Standard Error                   1.983439\n",
      "Economy (GDP per Capita)        -0.317575\n",
      "Family                          -1.006893\n",
      "Health (Life Expectancy)        -0.705328\n",
      "Freedom                         -0.413462\n",
      "Trust (Government Corruption)    1.385463\n",
      "Generosity                       1.001961\n",
      "Dystopia Residual               -0.238911\n",
      "dtype: float64\n"
     ]
    },
    {
     "data": {
      "image/png": "[encoded data removed]",
      "text/plain": [
       "<Figure size 432x288 with 1 Axes>"
      ]
     },
     "metadata": {
      "needs_background": "light"
     },
     "output_type": "display_data"
    },
    {
     "data": {
      "image/png": "[encoded data removed]",
      "text/plain": [
       "<Figure size 432x288 with 1 Axes>"
      ]
     },
     "metadata": {
      "needs_background": "light"
     },
     "output_type": "display_data"
    },
    {
     "data": {
      "image/png": "[encoded data removed]",
      "text/plain": [
       "<Figure size 432x288 with 1 Axes>"
      ]
     },
     "metadata": {
      "needs_background": "light"
     },
     "output_type": "display_data"
    },
    {
     "data": {
      "image/png": "[encoded data removed]",
      "text/plain": [
       "<Figure size 432x288 with 1 Axes>"
      ]
     },
     "metadata": {
      "needs_background": "light"
     },
     "output_type": "display_data"
    },
    {
     "data": {
      "image/png": "[encoded data removed]",
      "text/plain": [
       "<Figure size 432x288 with 1 Axes>"
      ]
     },
     "metadata": {
      "needs_background": "light"
     },
     "output_type": "display_data"
    },
    {
     "data": {
      "image/png": "[encoded data removed]",
      "text/plain": [
       "<Figure size 432x288 with 1 Axes>"
      ]
     },
     "metadata": {
      "needs_background": "light"
     },
     "output_type": "display_data"
    },
    {
     "data": {
      "image/png": "[encoded data removed]",
      "text/plain": [
       "<Figure size 432x288 with 1 Axes>"
      ]
     },
     "metadata": {
      "needs_background": "light"
     },
     "output_type": "display_data"
    },
    {
     "data": {
      "image/png": "[encoded data removed]",
      "text/plain": [
       "<Figure size 432x288 with 1 Axes>"
      ]
     },
     "metadata": {
      "needs_background": "light"
     },
     "output_type": "display_data"
    }
   ],
   "source": [
    "from scipy.stats import skew\n",
    "print(x.skew())\n",
    "for i in x.columns:\n",
    "    plt.figure()\n",
    "    sns.distplot(x[i])\n",
    "    plt.show"
   ]
  },
  {
   "cell_type": "raw",
   "metadata": {},
   "source": [
    "Standard Error, Generosity and Trust (Government Corruption) are positively skewed where in Family is negatively skewed"
   ]
  },
  {
   "cell_type": "code",
   "execution_count": 19,
   "metadata": {},
   "outputs": [
    {
     "data": {
      "text/plain": [
       "array([[0.80592569, 1.36962124, 1.32028142, ..., 2.30965159, 0.47103971,\n",
       "        0.75825809],\n",
       "       [0.05588945, 1.13522625, 1.51445776, ..., 0.01647953, 1.57585637,\n",
       "        1.09285682],\n",
       "       [0.8544869 , 1.19286069, 1.36105403, ..., 2.8427738 , 0.8242928 ,\n",
       "        0.71233526],\n",
       "       ...,\n",
       "       [0.13253425, 0.45524543, 1.90108634, ..., 0.38141902, 1.85689094,\n",
       "        3.20843049],\n",
       "       [2.26396166, 2.06756644, 2.1184666 , ..., 0.35771452, 0.31694987,\n",
       "        0.48198451],\n",
       "       [1.13418227, 1.58633379, 3.13472485, ..., 0.30180313, 0.5581534 ,\n",
       "        0.96361241]])"
      ]
     },
     "execution_count": 19,
     "metadata": {},
     "output_type": "execute_result"
    }
   ],
   "source": [
    "from scipy.stats import zscore\n",
    "z=np.abs(zscore(x))\n",
    "z"
   ]
  },
  {
   "cell_type": "code",
   "execution_count": 20,
   "metadata": {},
   "outputs": [
    {
     "name": "stdout",
     "output_type": "stream",
     "text": [
      "(array([ 27,  40,  64, 115, 128, 147, 153, 155, 157], dtype=int64), array([5, 0, 0, 0, 6, 2, 5, 7, 2], dtype=int64))\n"
     ]
    }
   ],
   "source": [
    "threshold=3\n",
    "print(np.where(z>3))"
   ]
  },
  {
   "cell_type": "code",
   "execution_count": 21,
   "metadata": {},
   "outputs": [],
   "source": [
    "data_new=x[(z<3).all(axis=1)] #removing outliers"
   ]
  },
  {
   "cell_type": "code",
   "execution_count": 22,
   "metadata": {},
   "outputs": [
    {
     "data": {
      "text/plain": [
       "(158, 9)"
      ]
     },
     "execution_count": 22,
     "metadata": {},
     "output_type": "execute_result"
    }
   ],
   "source": [
    "data.shape"
   ]
  },
  {
   "cell_type": "code",
   "execution_count": 23,
   "metadata": {},
   "outputs": [
    {
     "data": {
      "text/plain": [
       "(149, 8)"
      ]
     },
     "execution_count": 23,
     "metadata": {},
     "output_type": "execute_result"
    }
   ],
   "source": [
    "data_new.shape"
   ]
  },
  {
   "cell_type": "code",
   "execution_count": 24,
   "metadata": {},
   "outputs": [],
   "source": [
    "from sklearn.preprocessing import power_transform\n",
    "data_new=power_transform(x)\n",
    "\n",
    "data_new=pd.DataFrame(data_new,columns=x.columns)"
   ]
  },
  {
   "cell_type": "code",
   "execution_count": 25,
   "metadata": {},
   "outputs": [
    {
     "data": {
      "text/plain": [
       "Standard Error                  -0.020092\n",
       "Economy (GDP per Capita)        -0.127233\n",
       "Family                          -0.169651\n",
       "Health (Life Expectancy)        -0.183181\n",
       "Freedom                         -0.080728\n",
       "Trust (Government Corruption)    0.185965\n",
       "Generosity                       0.013320\n",
       "Dystopia Residual                0.022925\n",
       "dtype: float64"
      ]
     },
     "execution_count": 25,
     "metadata": {},
     "output_type": "execute_result"
    }
   ],
   "source": [
    "data_new.skew()"
   ]
  },
  {
   "cell_type": "raw",
   "metadata": {},
   "source": [
    "Skewness has now been reduced."
   ]
  },
  {
   "cell_type": "code",
   "execution_count": 26,
   "metadata": {},
   "outputs": [],
   "source": [
    "x=data_new"
   ]
  },
  {
   "cell_type": "code",
   "execution_count": 27,
   "metadata": {},
   "outputs": [
    {
     "name": "stdout",
     "output_type": "stream",
     "text": [
      "Less error  0.11117319785518184  at Random State  67\n"
     ]
    }
   ],
   "source": [
    "maxE=0\n",
    "maxRS=0\n",
    "for i in range(1,200):\n",
    "    x_train,x_test,y_train,y_test=train_test_split(x,y,test_size=.20,random_state=i)\n",
    "    Ln=LinearRegression()\n",
    "    Ln.fit(x_train,y_train)\n",
    "    pred=Ln.predict(x_test)\n",
    "    mae=mean_absolute_error(y_test,pred)\n",
    "    if mae>maxE:\n",
    "        maxE=mae\n",
    "        maxRS=i\n",
    "print(\"Less error \",maxE, \" at Random State \",maxRS)"
   ]
  },
  {
   "cell_type": "raw",
   "metadata": {},
   "source": [
    "We have found best random_state value as 67."
   ]
  },
  {
   "cell_type": "code",
   "execution_count": 28,
   "metadata": {},
   "outputs": [],
   "source": [
    "x_train,x_test,y_train,y_test=train_test_split(x,y,test_size=.20,random_state=67)"
   ]
  },
  {
   "cell_type": "code",
   "execution_count": 29,
   "metadata": {},
   "outputs": [
    {
     "name": "stdout",
     "output_type": "stream",
     "text": [
      "(126, 8)\n",
      "(32, 8)\n",
      "(126,)\n",
      "(32,)\n"
     ]
    }
   ],
   "source": [
    "print(x_train.shape)\n",
    "print(x_test.shape)\n",
    "print(y_train.shape)\n",
    "print(y_test.shape)"
   ]
  },
  {
   "cell_type": "code",
   "execution_count": 30,
   "metadata": {},
   "outputs": [
    {
     "data": {
      "text/plain": [
       "LinearRegression()"
      ]
     },
     "execution_count": 30,
     "metadata": {},
     "output_type": "execute_result"
    }
   ],
   "source": [
    "ln=LinearRegression()\n",
    "ln.fit(x_train,y_train)"
   ]
  },
  {
   "cell_type": "code",
   "execution_count": 31,
   "metadata": {},
   "outputs": [
    {
     "data": {
      "text/plain": [
       "0.9945919962593179"
      ]
     },
     "execution_count": 31,
     "metadata": {},
     "output_type": "execute_result"
    }
   ],
   "source": [
    "ln.score(x_train,y_train)"
   ]
  },
  {
   "cell_type": "raw",
   "metadata": {},
   "source": [
    "Model is 99.45% accurarate."
   ]
  },
  {
   "cell_type": "code",
   "execution_count": 32,
   "metadata": {},
   "outputs": [
    {
     "data": {
      "text/plain": [
       "array([0.01122344, 0.40562873, 0.25427672, 0.24466804, 0.16093013,\n",
       "       0.08203193, 0.10227573, 0.5429235 ])"
      ]
     },
     "execution_count": 32,
     "metadata": {},
     "output_type": "execute_result"
    }
   ],
   "source": [
    "ln.coef_"
   ]
  },
  {
   "cell_type": "code",
   "execution_count": 33,
   "metadata": {},
   "outputs": [
    {
     "data": {
      "text/plain": [
       "5.383083219585652"
      ]
     },
     "execution_count": 33,
     "metadata": {},
     "output_type": "execute_result"
    }
   ],
   "source": [
    "ln.intercept_"
   ]
  },
  {
   "cell_type": "code",
   "execution_count": 34,
   "metadata": {},
   "outputs": [
    {
     "name": "stdout",
     "output_type": "stream",
     "text": [
      "Predicted result price: \n",
      " [5.44607258 7.34042293 5.15491673 7.35814385 4.59972508 6.99091936\n",
      " 4.65359537 4.41039428 4.30454307 4.54775442 6.32489985 5.13604245\n",
      " 6.49830804 5.14960532 6.83292605 7.36545305 4.46153213 4.53967084\n",
      " 5.14117607 5.91931562 4.64331067 5.78720098 4.37727765 4.77703702\n",
      " 5.86289671 5.09961669 5.1021973  3.2280248  3.80096195 7.2966543\n",
      " 3.94105347 4.93950007]\n",
      "actual price: \n",
      " 69     5.548\n",
      "6      7.378\n",
      "73     5.399\n",
      "11     7.226\n",
      "113    4.633\n",
      "17     6.940\n",
      "122    4.507\n",
      "120    4.514\n",
      "147    3.678\n",
      "121    4.512\n",
      "38     6.295\n",
      "84     5.129\n",
      "32     6.477\n",
      "93     4.971\n",
      "24     6.786\n",
      "10     7.278\n",
      "127    4.332\n",
      "130    4.292\n",
      "82     5.192\n",
      "47     5.975\n",
      "115    4.571\n",
      "56     5.828\n",
      "123    4.436\n",
      "98     4.876\n",
      "50     5.890\n",
      "79     5.212\n",
      "78     5.253\n",
      "157    2.839\n",
      "149    3.656\n",
      "9      7.284\n",
      "139    3.956\n",
      "92     5.007\n",
      "Name: Happiness Score, dtype: float64\n"
     ]
    }
   ],
   "source": [
    "pred=ln.predict(x_test)\n",
    "print(\"Predicted result price: \\n\",pred)\n",
    "print(\"actual price: \\n\",y_test)"
   ]
  },
  {
   "cell_type": "raw",
   "metadata": {},
   "source": [
    "As model is 99.45% accurate there is no much difference in actual value and the predicted values."
   ]
  },
  {
   "cell_type": "markdown",
   "metadata": {},
   "source": [
    "# Lets check some evaluation matrix:"
   ]
  },
  {
   "cell_type": "code",
   "execution_count": 35,
   "metadata": {},
   "outputs": [
    {
     "name": "stdout",
     "output_type": "stream",
     "text": [
      "error:\n",
      "Mean absolute error: 0.11117319785518184\n",
      "Mean squared error: 0.02747140950360132\n",
      "Root Mean Squared Error: 0.16574501351051657\n"
     ]
    }
   ],
   "source": [
    "print('error:')\n",
    "\n",
    "print('Mean absolute error:',mean_absolute_error(y_test,pred))\n",
    "print('Mean squared error:',mean_squared_error(y_test,pred))\n",
    "print('Root Mean Squared Error:',np.sqrt(mean_squared_error(y_test,pred)))"
   ]
  },
  {
   "cell_type": "raw",
   "metadata": {},
   "source": [
    "As model is 99.45% accurate hence error percetange is in between 0 to 1."
   ]
  },
  {
   "cell_type": "code",
   "execution_count": 36,
   "metadata": {},
   "outputs": [
    {
     "name": "stdout",
     "output_type": "stream",
     "text": [
      "0.2978565624999999\n",
      "0.15963963832187505\n",
      "0.399549293982451\n"
     ]
    }
   ],
   "source": [
    "from sklearn.ensemble import RandomForestRegressor\n",
    "rf=RandomForestRegressor(n_estimators=100,random_state=7)\n",
    "rf.fit(x_train,y_train)\n",
    "predrf=rf.predict(x_test)\n",
    "print(mean_absolute_error(y_test,predrf))\n",
    "print(mean_squared_error(y_test,predrf))\n",
    "print(np.sqrt(mean_squared_error(y_test,predrf)))"
   ]
  },
  {
   "cell_type": "raw",
   "metadata": {},
   "source": [
    "This model is less accurate than Linear regression as error percertage is high."
   ]
  },
  {
   "cell_type": "code",
   "execution_count": 37,
   "metadata": {},
   "outputs": [
    {
     "name": "stdout",
     "output_type": "stream",
     "text": [
      "0.33828075703015936\n",
      "0.18482497476377097\n",
      "0.42991275250191285\n"
     ]
    }
   ],
   "source": [
    "from sklearn.ensemble import AdaBoostRegressor\n",
    "\n",
    "ad=AdaBoostRegressor()\n",
    "ad.fit(x_train,y_train)\n",
    "ad_pred=ad.predict(x_test)\n",
    "print(mean_absolute_error(y_test,ad_pred))\n",
    "print(mean_squared_error(y_test,ad_pred))\n",
    "print(np.sqrt(mean_squared_error(y_test,ad_pred)))"
   ]
  },
  {
   "cell_type": "raw",
   "metadata": {},
   "source": [
    "This model is also less accurate than Linear regression and random forest regressor as error percertage is high."
   ]
  },
  {
   "cell_type": "code",
   "execution_count": 38,
   "metadata": {},
   "outputs": [
    {
     "name": "stdout",
     "output_type": "stream",
     "text": [
      "Score for LinearRegression() is:  0.7719326755931525\n",
      "Score for RandomForestRegressor(random_state=7) is:  -3.1762550942067884\n",
      "Score for AdaBoostRegressor() is:  -5.821275892692584\n"
     ]
    }
   ],
   "source": [
    "model=[ln,rf,ad]\n",
    "for m in model:\n",
    "    score=cross_val_score(m,x,y,cv=5)\n",
    "    print(\"Score for\",m,\"is: \",score.mean())"
   ]
  },
  {
   "cell_type": "code",
   "execution_count": 39,
   "metadata": {},
   "outputs": [],
   "source": [
    "from sklearn.model_selection import GridSearchCV\n",
    "#creating  parameter list to pass in GridSearchCV\n",
    "parameters={'max_depth':np.arange(2,15),'criterion':['gini','entropy']}"
   ]
  },
  {
   "cell_type": "code",
   "execution_count": 43,
   "metadata": {},
   "outputs": [],
   "source": [
    "GCV=GridSearchCV(LinearRegression(),parameters,cv=5)"
   ]
  },
  {
   "cell_type": "raw",
   "metadata": {},
   "source": [
    "GCV.fit(x_train,y_train)"
   ]
  },
  {
   "cell_type": "raw",
   "metadata": {},
   "source": [
    "GCV.best_params_\n",
    "GCV_pred=GCV.best_estimator_.predict(x_test) "
   ]
  },
  {
   "cell_type": "raw",
   "metadata": {},
   "source": [
    "I was getting an error asked help but did not received any response on ticket hence i was able to complete the GRidSearchCV method."
   ]
  },
  {
   "cell_type": "markdown",
   "metadata": {},
   "source": [
    "# Saving best model:"
   ]
  },
  {
   "cell_type": "code",
   "execution_count": 45,
   "metadata": {},
   "outputs": [
    {
     "data": {
      "text/plain": [
       "['lnmodel.obj']"
      ]
     },
     "execution_count": 45,
     "metadata": {},
     "output_type": "execute_result"
    }
   ],
   "source": [
    "import joblib\n",
    "joblib.dump(ln,\"lnmodel.obj\")"
   ]
  },
  {
   "cell_type": "code",
   "execution_count": 46,
   "metadata": {},
   "outputs": [
    {
     "data": {
      "text/plain": [
       "array([4.44437805, 7.47456103, 5.11469326, 4.64949564, 3.90223721,\n",
       "       7.64772024, 6.83141079, 4.933742  , 6.13833297, 4.89017738,\n",
       "       5.04488783, 4.62735534, 5.60786904, 6.97811756, 5.70250096,\n",
       "       7.58821154, 4.25455125, 4.93524118, 5.81539847, 6.0954786 ,\n",
       "       5.99677926, 5.9297245 , 5.94981586, 5.51683519, 5.046157  ,\n",
       "       5.44207943, 5.73370454, 4.67274936, 4.36337202, 6.4883481 ,\n",
       "       5.26165786, 5.61673072, 5.71838657, 7.41409386, 6.00863719,\n",
       "       4.02152582, 5.03786464, 5.04833916, 4.67204742, 4.26328486,\n",
       "       7.17300814, 4.70649595, 7.3206007 , 5.70346145, 3.89447506,\n",
       "       5.06441103, 5.66658181, 4.29898599, 6.61416059, 4.82373607,\n",
       "       5.31216321, 7.43334541, 3.90029754, 4.82835263, 4.14061299,\n",
       "       4.67820486, 4.32779484, 3.86649425, 7.19129303, 4.59706064,\n",
       "       7.03004618, 6.82154349, 6.52342738, 5.75656263, 3.69796801,\n",
       "       4.81926787, 4.62016036, 4.77004133, 6.77877522, 4.53902059,\n",
       "       3.73628074, 3.9584549 , 7.76081632, 6.02935041, 5.41267987,\n",
       "       5.75636207, 6.30920698, 4.84832628, 5.14946832, 6.67618339,\n",
       "       4.7985536 , 7.24747244, 6.00843308, 4.23831189, 5.32051654,\n",
       "       5.8289138 , 4.0734708 , 5.19907708, 4.04112883, 3.53929958,\n",
       "       5.28261589, 6.50532973, 3.72250803, 5.02423474, 4.70671217,\n",
       "       3.21937146, 7.03850451, 5.77485164, 4.01657415, 5.86793453,\n",
       "       6.33752576, 3.34797584, 3.62070049, 3.19629315, 6.31896894,\n",
       "       6.27115436, 4.28299463, 3.7475383 , 6.83701855, 6.67496401,\n",
       "       6.08516057, 6.30861564, 4.63705001, 5.77795128, 4.92051887,\n",
       "       4.71333411, 6.72002018, 3.74547564, 6.12067706, 6.86685691,\n",
       "       6.45641932, 4.95779218, 4.04119973, 7.31670525, 5.81180046,\n",
       "       5.51350201])"
      ]
     },
     "execution_count": 46,
     "metadata": {},
     "output_type": "execute_result"
    }
   ],
   "source": [
    "lnfile=joblib.load(\"lnmodel.obj\")\n",
    "lnfile.predict(x_train)"
   ]
  },
  {
   "cell_type": "raw",
   "metadata": {},
   "source": [
    "Called the saved model and predict"
   ]
  },
  {
   "cell_type": "code",
   "execution_count": null,
   "metadata": {},
   "outputs": [],
   "source": []
  }
 ],
 "metadata": {
  "kernelspec": {
   "display_name": "Python 3",
   "language": "python",
   "name": "python3"
  },
  "language_info": {
   "codemirror_mode": {
    "name": "ipython",
    "version": 3
   },
   "file_extension": ".py",
   "mimetype": "text/x-python",
   "name": "python",
   "nbconvert_exporter": "python",
   "pygments_lexer": "ipython3",
   "version": "3.8.3"
  }
 },
 "nbformat": 4,
 "nbformat_minor": 4
}
