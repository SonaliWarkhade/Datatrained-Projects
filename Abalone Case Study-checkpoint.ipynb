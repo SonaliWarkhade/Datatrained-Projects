{
 "cells": [
  {
   "cell_type": "markdown",
   "metadata": {},
   "source": [
    "Problem Statement:\n",
    "The age of abalone is determined by cutting the shell through the cone, staining it, and counting the number of rings through a microscope -- a boring and time-consuming task. Other measurements, which are easier to obtain, are used to predict the age. Further information, such as weather patterns and location (hence food availability) may be required to solve the problem.\n",
    "\n",
    "Attribute Information\n",
    "\n",
    "Given is the attribute name, attribute type, the measurement unit and a brief description. The number of rings is the value to predict. \n",
    "\n",
    "Name / Data Type / Measurement Unit / Description\n",
    "-----------------------------\n",
    "Sex / nominal / -- / M, F, and I (infant)\n",
    "Length / continuous / mm / Longest shell measurement\n",
    "Diameter / continuous / mm / perpendicular to length\n",
    "Height / continuous / mm / with meat in shell\n",
    "Whole weight / continuous / grams / whole abalone\n",
    "Shucked weight / continuous / grams / weight of meat\n",
    "Viscera weight / continuous / grams / gut weight (after bleeding)\n",
    "Shell weight / continuous / grams / after being dried\n",
    "Rings / integer / -- / +1.5 gives the age in years. \n",
    "\n",
    "You have to predict the rings of each abalone which will lead us to the age of that abalone. "
   ]
  },
  {
   "cell_type": "code",
   "execution_count": 1,
   "metadata": {
    "scrolled": true
   },
   "outputs": [],
   "source": [
    "import pandas as pd\n",
    "import numpy as np\n",
    "import sklearn\n",
    "import seaborn as sns\n",
    "import matplotlib.pyplot as plt\n",
    "\n",
    "from sklearn.naive_bayes import GaussianNB\n",
    "from sklearn.tree import DecisionTreeClassifier\n",
    "from sklearn.svm import SVC\n",
    "from sklearn.neighbors import KNeighborsClassifier\n",
    "from sklearn.ensemble import RandomForestClassifier, AdaBoostClassifier\n",
    "from sklearn.metrics import accuracy_score,confusion_matrix,classification_report\n",
    "from sklearn.model_selection import train_test_split, cross_val_score\n",
    "from sklearn.preprocessing import LabelEncoder\n",
    "\n",
    "import warnings\n",
    "warnings.filterwarnings('ignore')"
   ]
  },
  {
   "cell_type": "raw",
   "metadata": {},
   "source": [
    "We will be performing classification method as target varible has discrete integer value, its not continuous in nature."
   ]
  },
  {
   "cell_type": "code",
   "execution_count": 2,
   "metadata": {
    "scrolled": true
   },
   "outputs": [
    {
     "data": {
      "text/html": [
       "<div>\n",
       "<style scoped>\n",
       "    .dataframe tbody tr th:only-of-type {\n",
       "        vertical-align: middle;\n",
       "    }\n",
       "\n",
       "    .dataframe tbody tr th {\n",
       "        vertical-align: top;\n",
       "    }\n",
       "\n",
       "    .dataframe thead th {\n",
       "        text-align: right;\n",
       "    }\n",
       "</style>\n",
       "<table border=\"1\" class=\"dataframe\">\n",
       "  <thead>\n",
       "    <tr style=\"text-align: right;\">\n",
       "      <th></th>\n",
       "      <th>Sex</th>\n",
       "      <th>Length</th>\n",
       "      <th>Diameter</th>\n",
       "      <th>Height</th>\n",
       "      <th>Whole weight</th>\n",
       "      <th>Shucked weight</th>\n",
       "      <th>Viscera weight</th>\n",
       "      <th>Shell weight</th>\n",
       "      <th>Rings</th>\n",
       "    </tr>\n",
       "  </thead>\n",
       "  <tbody>\n",
       "    <tr>\n",
       "      <th>0</th>\n",
       "      <td>M</td>\n",
       "      <td>0.455</td>\n",
       "      <td>0.365</td>\n",
       "      <td>0.095</td>\n",
       "      <td>0.5140</td>\n",
       "      <td>0.2245</td>\n",
       "      <td>0.1010</td>\n",
       "      <td>0.1500</td>\n",
       "      <td>15</td>\n",
       "    </tr>\n",
       "    <tr>\n",
       "      <th>1</th>\n",
       "      <td>M</td>\n",
       "      <td>0.350</td>\n",
       "      <td>0.265</td>\n",
       "      <td>0.090</td>\n",
       "      <td>0.2255</td>\n",
       "      <td>0.0995</td>\n",
       "      <td>0.0485</td>\n",
       "      <td>0.0700</td>\n",
       "      <td>7</td>\n",
       "    </tr>\n",
       "    <tr>\n",
       "      <th>2</th>\n",
       "      <td>F</td>\n",
       "      <td>0.530</td>\n",
       "      <td>0.420</td>\n",
       "      <td>0.135</td>\n",
       "      <td>0.6770</td>\n",
       "      <td>0.2565</td>\n",
       "      <td>0.1415</td>\n",
       "      <td>0.2100</td>\n",
       "      <td>9</td>\n",
       "    </tr>\n",
       "    <tr>\n",
       "      <th>3</th>\n",
       "      <td>M</td>\n",
       "      <td>0.440</td>\n",
       "      <td>0.365</td>\n",
       "      <td>0.125</td>\n",
       "      <td>0.5160</td>\n",
       "      <td>0.2155</td>\n",
       "      <td>0.1140</td>\n",
       "      <td>0.1550</td>\n",
       "      <td>10</td>\n",
       "    </tr>\n",
       "    <tr>\n",
       "      <th>4</th>\n",
       "      <td>I</td>\n",
       "      <td>0.330</td>\n",
       "      <td>0.255</td>\n",
       "      <td>0.080</td>\n",
       "      <td>0.2050</td>\n",
       "      <td>0.0895</td>\n",
       "      <td>0.0395</td>\n",
       "      <td>0.0550</td>\n",
       "      <td>7</td>\n",
       "    </tr>\n",
       "    <tr>\n",
       "      <th>...</th>\n",
       "      <td>...</td>\n",
       "      <td>...</td>\n",
       "      <td>...</td>\n",
       "      <td>...</td>\n",
       "      <td>...</td>\n",
       "      <td>...</td>\n",
       "      <td>...</td>\n",
       "      <td>...</td>\n",
       "      <td>...</td>\n",
       "    </tr>\n",
       "    <tr>\n",
       "      <th>4172</th>\n",
       "      <td>F</td>\n",
       "      <td>0.565</td>\n",
       "      <td>0.450</td>\n",
       "      <td>0.165</td>\n",
       "      <td>0.8870</td>\n",
       "      <td>0.3700</td>\n",
       "      <td>0.2390</td>\n",
       "      <td>0.2490</td>\n",
       "      <td>11</td>\n",
       "    </tr>\n",
       "    <tr>\n",
       "      <th>4173</th>\n",
       "      <td>M</td>\n",
       "      <td>0.590</td>\n",
       "      <td>0.440</td>\n",
       "      <td>0.135</td>\n",
       "      <td>0.9660</td>\n",
       "      <td>0.4390</td>\n",
       "      <td>0.2145</td>\n",
       "      <td>0.2605</td>\n",
       "      <td>10</td>\n",
       "    </tr>\n",
       "    <tr>\n",
       "      <th>4174</th>\n",
       "      <td>M</td>\n",
       "      <td>0.600</td>\n",
       "      <td>0.475</td>\n",
       "      <td>0.205</td>\n",
       "      <td>1.1760</td>\n",
       "      <td>0.5255</td>\n",
       "      <td>0.2875</td>\n",
       "      <td>0.3080</td>\n",
       "      <td>9</td>\n",
       "    </tr>\n",
       "    <tr>\n",
       "      <th>4175</th>\n",
       "      <td>F</td>\n",
       "      <td>0.625</td>\n",
       "      <td>0.485</td>\n",
       "      <td>0.150</td>\n",
       "      <td>1.0945</td>\n",
       "      <td>0.5310</td>\n",
       "      <td>0.2610</td>\n",
       "      <td>0.2960</td>\n",
       "      <td>10</td>\n",
       "    </tr>\n",
       "    <tr>\n",
       "      <th>4176</th>\n",
       "      <td>M</td>\n",
       "      <td>0.710</td>\n",
       "      <td>0.555</td>\n",
       "      <td>0.195</td>\n",
       "      <td>1.9485</td>\n",
       "      <td>0.9455</td>\n",
       "      <td>0.3765</td>\n",
       "      <td>0.4950</td>\n",
       "      <td>12</td>\n",
       "    </tr>\n",
       "  </tbody>\n",
       "</table>\n",
       "<p>4177 rows × 9 columns</p>\n",
       "</div>"
      ],
      "text/plain": [
       "     Sex  Length  Diameter  Height  Whole weight  Shucked weight  \\\n",
       "0      M   0.455     0.365   0.095        0.5140          0.2245   \n",
       "1      M   0.350     0.265   0.090        0.2255          0.0995   \n",
       "2      F   0.530     0.420   0.135        0.6770          0.2565   \n",
       "3      M   0.440     0.365   0.125        0.5160          0.2155   \n",
       "4      I   0.330     0.255   0.080        0.2050          0.0895   \n",
       "...   ..     ...       ...     ...           ...             ...   \n",
       "4172   F   0.565     0.450   0.165        0.8870          0.3700   \n",
       "4173   M   0.590     0.440   0.135        0.9660          0.4390   \n",
       "4174   M   0.600     0.475   0.205        1.1760          0.5255   \n",
       "4175   F   0.625     0.485   0.150        1.0945          0.5310   \n",
       "4176   M   0.710     0.555   0.195        1.9485          0.9455   \n",
       "\n",
       "      Viscera weight  Shell weight  Rings  \n",
       "0             0.1010        0.1500     15  \n",
       "1             0.0485        0.0700      7  \n",
       "2             0.1415        0.2100      9  \n",
       "3             0.1140        0.1550     10  \n",
       "4             0.0395        0.0550      7  \n",
       "...              ...           ...    ...  \n",
       "4172          0.2390        0.2490     11  \n",
       "4173          0.2145        0.2605     10  \n",
       "4174          0.2875        0.3080      9  \n",
       "4175          0.2610        0.2960     10  \n",
       "4176          0.3765        0.4950     12  \n",
       "\n",
       "[4177 rows x 9 columns]"
      ]
     },
     "execution_count": 2,
     "metadata": {},
     "output_type": "execute_result"
    }
   ],
   "source": [
    "cd=pd.read_csv('abalone.csv')\n",
    "data=pd.DataFrame(data=cd)\n",
    "data"
   ]
  },
  {
   "cell_type": "code",
   "execution_count": 3,
   "metadata": {
    "scrolled": true
   },
   "outputs": [
    {
     "data": {
      "text/html": [
       "<div>\n",
       "<style scoped>\n",
       "    .dataframe tbody tr th:only-of-type {\n",
       "        vertical-align: middle;\n",
       "    }\n",
       "\n",
       "    .dataframe tbody tr th {\n",
       "        vertical-align: top;\n",
       "    }\n",
       "\n",
       "    .dataframe thead th {\n",
       "        text-align: right;\n",
       "    }\n",
       "</style>\n",
       "<table border=\"1\" class=\"dataframe\">\n",
       "  <thead>\n",
       "    <tr style=\"text-align: right;\">\n",
       "      <th></th>\n",
       "      <th>Sex</th>\n",
       "      <th>Length</th>\n",
       "      <th>Diameter</th>\n",
       "      <th>Height</th>\n",
       "      <th>Whole weight</th>\n",
       "      <th>Shucked weight</th>\n",
       "      <th>Viscera weight</th>\n",
       "      <th>Shell weight</th>\n",
       "      <th>Rings</th>\n",
       "    </tr>\n",
       "  </thead>\n",
       "  <tbody>\n",
       "    <tr>\n",
       "      <th>4172</th>\n",
       "      <td>F</td>\n",
       "      <td>0.565</td>\n",
       "      <td>0.450</td>\n",
       "      <td>0.165</td>\n",
       "      <td>0.8870</td>\n",
       "      <td>0.3700</td>\n",
       "      <td>0.2390</td>\n",
       "      <td>0.2490</td>\n",
       "      <td>11</td>\n",
       "    </tr>\n",
       "    <tr>\n",
       "      <th>4173</th>\n",
       "      <td>M</td>\n",
       "      <td>0.590</td>\n",
       "      <td>0.440</td>\n",
       "      <td>0.135</td>\n",
       "      <td>0.9660</td>\n",
       "      <td>0.4390</td>\n",
       "      <td>0.2145</td>\n",
       "      <td>0.2605</td>\n",
       "      <td>10</td>\n",
       "    </tr>\n",
       "    <tr>\n",
       "      <th>4174</th>\n",
       "      <td>M</td>\n",
       "      <td>0.600</td>\n",
       "      <td>0.475</td>\n",
       "      <td>0.205</td>\n",
       "      <td>1.1760</td>\n",
       "      <td>0.5255</td>\n",
       "      <td>0.2875</td>\n",
       "      <td>0.3080</td>\n",
       "      <td>9</td>\n",
       "    </tr>\n",
       "    <tr>\n",
       "      <th>4175</th>\n",
       "      <td>F</td>\n",
       "      <td>0.625</td>\n",
       "      <td>0.485</td>\n",
       "      <td>0.150</td>\n",
       "      <td>1.0945</td>\n",
       "      <td>0.5310</td>\n",
       "      <td>0.2610</td>\n",
       "      <td>0.2960</td>\n",
       "      <td>10</td>\n",
       "    </tr>\n",
       "    <tr>\n",
       "      <th>4176</th>\n",
       "      <td>M</td>\n",
       "      <td>0.710</td>\n",
       "      <td>0.555</td>\n",
       "      <td>0.195</td>\n",
       "      <td>1.9485</td>\n",
       "      <td>0.9455</td>\n",
       "      <td>0.3765</td>\n",
       "      <td>0.4950</td>\n",
       "      <td>12</td>\n",
       "    </tr>\n",
       "  </tbody>\n",
       "</table>\n",
       "</div>"
      ],
      "text/plain": [
       "     Sex  Length  Diameter  Height  Whole weight  Shucked weight  \\\n",
       "4172   F   0.565     0.450   0.165        0.8870          0.3700   \n",
       "4173   M   0.590     0.440   0.135        0.9660          0.4390   \n",
       "4174   M   0.600     0.475   0.205        1.1760          0.5255   \n",
       "4175   F   0.625     0.485   0.150        1.0945          0.5310   \n",
       "4176   M   0.710     0.555   0.195        1.9485          0.9455   \n",
       "\n",
       "      Viscera weight  Shell weight  Rings  \n",
       "4172          0.2390        0.2490     11  \n",
       "4173          0.2145        0.2605     10  \n",
       "4174          0.2875        0.3080      9  \n",
       "4175          0.2610        0.2960     10  \n",
       "4176          0.3765        0.4950     12  "
      ]
     },
     "execution_count": 3,
     "metadata": {},
     "output_type": "execute_result"
    }
   ],
   "source": [
    "data.tail()"
   ]
  },
  {
   "cell_type": "code",
   "execution_count": 4,
   "metadata": {},
   "outputs": [
    {
     "data": {
      "text/plain": [
       "Sex                object\n",
       "Length            float64\n",
       "Diameter          float64\n",
       "Height            float64\n",
       "Whole weight      float64\n",
       "Shucked weight    float64\n",
       "Viscera weight    float64\n",
       "Shell weight      float64\n",
       "Rings               int64\n",
       "dtype: object"
      ]
     },
     "execution_count": 4,
     "metadata": {},
     "output_type": "execute_result"
    }
   ],
   "source": [
    "data.dtypes"
   ]
  },
  {
   "cell_type": "raw",
   "metadata": {},
   "source": [
    "Other that sex feature all other attributes are numberic, hence need to perform encoding technique:"
   ]
  },
  {
   "cell_type": "code",
   "execution_count": 5,
   "metadata": {
    "scrolled": true
   },
   "outputs": [],
   "source": [
    "data['Sex']=LabelEncoder().fit_transform(data['Sex'])"
   ]
  },
  {
   "cell_type": "code",
   "execution_count": 6,
   "metadata": {
    "scrolled": true
   },
   "outputs": [
    {
     "data": {
      "text/html": [
       "<div>\n",
       "<style scoped>\n",
       "    .dataframe tbody tr th:only-of-type {\n",
       "        vertical-align: middle;\n",
       "    }\n",
       "\n",
       "    .dataframe tbody tr th {\n",
       "        vertical-align: top;\n",
       "    }\n",
       "\n",
       "    .dataframe thead th {\n",
       "        text-align: right;\n",
       "    }\n",
       "</style>\n",
       "<table border=\"1\" class=\"dataframe\">\n",
       "  <thead>\n",
       "    <tr style=\"text-align: right;\">\n",
       "      <th></th>\n",
       "      <th>Sex</th>\n",
       "      <th>Length</th>\n",
       "      <th>Diameter</th>\n",
       "      <th>Height</th>\n",
       "      <th>Whole weight</th>\n",
       "      <th>Shucked weight</th>\n",
       "      <th>Viscera weight</th>\n",
       "      <th>Shell weight</th>\n",
       "      <th>Rings</th>\n",
       "    </tr>\n",
       "  </thead>\n",
       "  <tbody>\n",
       "    <tr>\n",
       "      <th>count</th>\n",
       "      <td>4177.000000</td>\n",
       "      <td>4177.000000</td>\n",
       "      <td>4177.000000</td>\n",
       "      <td>4177.000000</td>\n",
       "      <td>4177.000000</td>\n",
       "      <td>4177.000000</td>\n",
       "      <td>4177.000000</td>\n",
       "      <td>4177.000000</td>\n",
       "      <td>4177.000000</td>\n",
       "    </tr>\n",
       "    <tr>\n",
       "      <th>mean</th>\n",
       "      <td>1.052909</td>\n",
       "      <td>0.523992</td>\n",
       "      <td>0.407881</td>\n",
       "      <td>0.139516</td>\n",
       "      <td>0.828742</td>\n",
       "      <td>0.359367</td>\n",
       "      <td>0.180594</td>\n",
       "      <td>0.238831</td>\n",
       "      <td>9.933684</td>\n",
       "    </tr>\n",
       "    <tr>\n",
       "      <th>std</th>\n",
       "      <td>0.822240</td>\n",
       "      <td>0.120093</td>\n",
       "      <td>0.099240</td>\n",
       "      <td>0.041827</td>\n",
       "      <td>0.490389</td>\n",
       "      <td>0.221963</td>\n",
       "      <td>0.109614</td>\n",
       "      <td>0.139203</td>\n",
       "      <td>3.224169</td>\n",
       "    </tr>\n",
       "    <tr>\n",
       "      <th>min</th>\n",
       "      <td>0.000000</td>\n",
       "      <td>0.075000</td>\n",
       "      <td>0.055000</td>\n",
       "      <td>0.000000</td>\n",
       "      <td>0.002000</td>\n",
       "      <td>0.001000</td>\n",
       "      <td>0.000500</td>\n",
       "      <td>0.001500</td>\n",
       "      <td>1.000000</td>\n",
       "    </tr>\n",
       "    <tr>\n",
       "      <th>25%</th>\n",
       "      <td>0.000000</td>\n",
       "      <td>0.450000</td>\n",
       "      <td>0.350000</td>\n",
       "      <td>0.115000</td>\n",
       "      <td>0.441500</td>\n",
       "      <td>0.186000</td>\n",
       "      <td>0.093500</td>\n",
       "      <td>0.130000</td>\n",
       "      <td>8.000000</td>\n",
       "    </tr>\n",
       "    <tr>\n",
       "      <th>50%</th>\n",
       "      <td>1.000000</td>\n",
       "      <td>0.545000</td>\n",
       "      <td>0.425000</td>\n",
       "      <td>0.140000</td>\n",
       "      <td>0.799500</td>\n",
       "      <td>0.336000</td>\n",
       "      <td>0.171000</td>\n",
       "      <td>0.234000</td>\n",
       "      <td>9.000000</td>\n",
       "    </tr>\n",
       "    <tr>\n",
       "      <th>75%</th>\n",
       "      <td>2.000000</td>\n",
       "      <td>0.615000</td>\n",
       "      <td>0.480000</td>\n",
       "      <td>0.165000</td>\n",
       "      <td>1.153000</td>\n",
       "      <td>0.502000</td>\n",
       "      <td>0.253000</td>\n",
       "      <td>0.329000</td>\n",
       "      <td>11.000000</td>\n",
       "    </tr>\n",
       "    <tr>\n",
       "      <th>max</th>\n",
       "      <td>2.000000</td>\n",
       "      <td>0.815000</td>\n",
       "      <td>0.650000</td>\n",
       "      <td>1.130000</td>\n",
       "      <td>2.825500</td>\n",
       "      <td>1.488000</td>\n",
       "      <td>0.760000</td>\n",
       "      <td>1.005000</td>\n",
       "      <td>29.000000</td>\n",
       "    </tr>\n",
       "  </tbody>\n",
       "</table>\n",
       "</div>"
      ],
      "text/plain": [
       "               Sex       Length     Diameter       Height  Whole weight  \\\n",
       "count  4177.000000  4177.000000  4177.000000  4177.000000   4177.000000   \n",
       "mean      1.052909     0.523992     0.407881     0.139516      0.828742   \n",
       "std       0.822240     0.120093     0.099240     0.041827      0.490389   \n",
       "min       0.000000     0.075000     0.055000     0.000000      0.002000   \n",
       "25%       0.000000     0.450000     0.350000     0.115000      0.441500   \n",
       "50%       1.000000     0.545000     0.425000     0.140000      0.799500   \n",
       "75%       2.000000     0.615000     0.480000     0.165000      1.153000   \n",
       "max       2.000000     0.815000     0.650000     1.130000      2.825500   \n",
       "\n",
       "       Shucked weight  Viscera weight  Shell weight        Rings  \n",
       "count     4177.000000     4177.000000   4177.000000  4177.000000  \n",
       "mean         0.359367        0.180594      0.238831     9.933684  \n",
       "std          0.221963        0.109614      0.139203     3.224169  \n",
       "min          0.001000        0.000500      0.001500     1.000000  \n",
       "25%          0.186000        0.093500      0.130000     8.000000  \n",
       "50%          0.336000        0.171000      0.234000     9.000000  \n",
       "75%          0.502000        0.253000      0.329000    11.000000  \n",
       "max          1.488000        0.760000      1.005000    29.000000  "
      ]
     },
     "execution_count": 6,
     "metadata": {},
     "output_type": "execute_result"
    }
   ],
   "source": [
    "data.describe()"
   ]
  },
  {
   "cell_type": "raw",
   "metadata": {},
   "source": [
    "From the above plotting we are determining mean, standard deviation, minimum and maximum value of each column. \n",
    "It helps us further in data Cleaning.\n",
    "\n",
    "Total number of rows in the datasets:\n",
    "1.4177 rows\n",
    "2.9 columns\n",
    "\n",
    "Sex:\n",
    "This attribute is label encoded as it was in object type format.\n",
    "1.Mean=1.0529\n",
    "2.Std=0.8222\n",
    "3.min_value=0.0000\n",
    "4.max_value=2.0000\n",
    "\n",
    "Length:\n",
    "1.Mean=0.5240\n",
    "2.Std=0.1201\n",
    "3.min_value=0.0750\n",
    "4.max_value=0.8150\n",
    "\n",
    "Diameter:\n",
    "1.Mean=0.4079\n",
    "2.Std=0.0992\n",
    "3.min_value=0.0550\n",
    "4.max_value=0.6500\n",
    "\n",
    "Height:\n",
    "1.Mean=0.1395\n",
    "2.Std=0.0418\n",
    "3.min_value=0.0000\n",
    "4.max_value=1.1300\n",
    "\n",
    "Whole weight:\n",
    "1.Mean=0.8287\n",
    "2.Std=0.4904\n",
    "3.min_value=0.0020\n",
    "4.max_value=2.8255\n",
    "\n",
    "Shucked weight:\n",
    "1.Mean=0.3594\n",
    "2.Std=0.2220\n",
    "3.min_value=0.0010\n",
    "4.max_value=1.4880\n",
    "\n",
    "Viscera weight:\n",
    "1.Mean=0.1806\n",
    "2.Std=0.1096\n",
    "3.min_value=0.0005\n",
    "4.max_value=0.7600\n",
    "\n",
    "Shell weight:\n",
    "1.Mean=0.2388\n",
    "2.Std=0.1392\n",
    "3.min_value=0.0015\n",
    "4.max_value=1.0050\n",
    "\n",
    "Rings:\n",
    "1.Mean=9.9337\n",
    "2.Std=3.2242\n",
    "3.min_value=1.0000\n",
    "4.max_value=29.0000"
   ]
  },
  {
   "cell_type": "code",
   "execution_count": 7,
   "metadata": {
    "scrolled": true
   },
   "outputs": [
    {
     "data": {
      "text/plain": [
       "Sex               0\n",
       "Length            0\n",
       "Diameter          0\n",
       "Height            0\n",
       "Whole weight      0\n",
       "Shucked weight    0\n",
       "Viscera weight    0\n",
       "Shell weight      0\n",
       "Rings             0\n",
       "dtype: int64"
      ]
     },
     "execution_count": 7,
     "metadata": {},
     "output_type": "execute_result"
    }
   ],
   "source": [
    "data.isnull().sum()"
   ]
  },
  {
   "cell_type": "raw",
   "metadata": {},
   "source": [
    "Dataset does not contain any null values"
   ]
  },
  {
   "cell_type": "code",
   "execution_count": 8,
   "metadata": {
    "scrolled": true
   },
   "outputs": [
    {
     "data": {
      "text/plain": [
       "<matplotlib.axes._subplots.AxesSubplot at 0x2b86b4866a0>"
      ]
     },
     "execution_count": 8,
     "metadata": {},
     "output_type": "execute_result"
    },
    {
     "data": {
      "image/png": "[encoded data removed]",
      "text/plain": [
       "<Figure size 432x288 with 2 Axes>"
      ]
     },
     "metadata": {
      "needs_background": "light"
     },
     "output_type": "display_data"
    }
   ],
   "source": [
    "sns.heatmap(data.isnull()) #visual representation using seaborn library"
   ]
  },
  {
   "cell_type": "code",
   "execution_count": 9,
   "metadata": {
    "scrolled": false
   },
   "outputs": [
    {
     "data": {
      "image/png": "[encoded data removed]",
      "text/plain": [
       "<Figure size 720x576 with 2 Axes>"
      ]
     },
     "metadata": {
      "needs_background": "light"
     },
     "output_type": "display_data"
    }
   ],
   "source": [
    "corr=data.corr()\n",
    "plt.figure(figsize=(10,8))\n",
    "sns.heatmap(corr,annot=True)\n",
    "plt.show()"
   ]
  },
  {
   "cell_type": "code",
   "execution_count": 10,
   "metadata": {
    "scrolled": true
   },
   "outputs": [
    {
     "data": {
      "text/plain": [
       "Rings             1.000000\n",
       "Shell weight      0.627574\n",
       "Diameter          0.574660\n",
       "Height            0.557467\n",
       "Length            0.556720\n",
       "Whole weight      0.540390\n",
       "Viscera weight    0.503819\n",
       "Shucked weight    0.420884\n",
       "Sex              -0.034627\n",
       "Name: Rings, dtype: float64"
      ]
     },
     "execution_count": 10,
     "metadata": {},
     "output_type": "execute_result"
    }
   ],
   "source": [
    "cor_matrix=data.corr()\n",
    "cor_matrix['Rings'].sort_values(ascending=False)"
   ]
  },
  {
   "cell_type": "raw",
   "metadata": {},
   "source": [
    "Rings are highly correlated with Shell weight, Diameter and Height attributes and has very less correlation with Sex column."
   ]
  },
  {
   "cell_type": "code",
   "execution_count": 11,
   "metadata": {
    "scrolled": true
   },
   "outputs": [
    {
     "data": {
      "image/png": "[encoded data removed]",
      "text/plain": [
       "<Figure size 432x288 with 1 Axes>"
      ]
     },
     "metadata": {
      "needs_background": "light"
     },
     "output_type": "display_data"
    }
   ],
   "source": [
    "plt.scatter(data['Rings'],data['Shell weight'])\n",
    "plt.show()"
   ]
  },
  {
   "cell_type": "code",
   "execution_count": 12,
   "metadata": {
    "scrolled": true
   },
   "outputs": [
    {
     "data": {
      "image/png": "[encoded data removed]",
      "text/plain": [
       "<Figure size 432x288 with 1 Axes>"
      ]
     },
     "metadata": {
      "needs_background": "light"
     },
     "output_type": "display_data"
    }
   ],
   "source": [
    "plt.scatter(data['Rings'],data['Diameter'])\n",
    "plt.show()"
   ]
  },
  {
   "cell_type": "code",
   "execution_count": 13,
   "metadata": {
    "scrolled": false
   },
   "outputs": [
    {
     "name": "stdout",
     "output_type": "stream",
     "text": [
      "Sex              -0.098155\n",
      "Length           -0.639873\n",
      "Diameter         -0.609198\n",
      "Height            3.128817\n",
      "Whole weight      0.530959\n",
      "Shucked weight    0.719098\n",
      "Viscera weight    0.591852\n",
      "Shell weight      0.620927\n",
      "Rings             1.114102\n",
      "dtype: float64\n"
     ]
    },
    {
     "data": {
      "image/png": "[encoded data removed]",
      "text/plain": [
       "<Figure size 432x288 with 1 Axes>"
      ]
     },
     "metadata": {
      "needs_background": "light"
     },
     "output_type": "display_data"
    },
    {
     "data": {
      "image/png": "[encoded data removed]",
      "text/plain": [
       "<Figure size 432x288 with 1 Axes>"
      ]
     },
     "metadata": {
      "needs_background": "light"
     },
     "output_type": "display_data"
    },
    {
     "data": {
      "image/png": "[encoded data removed]",
      "text/plain": [
       "<Figure size 432x288 with 1 Axes>"
      ]
     },
     "metadata": {
      "needs_background": "light"
     },
     "output_type": "display_data"
    },
    {
     "data": {
      "image/png": "[encoded data removed]",
      "text/plain": [
       "<Figure size 432x288 with 1 Axes>"
      ]
     },
     "metadata": {
      "needs_background": "light"
     },
     "output_type": "display_data"
    },
    {
     "data": {
      "image/png": "[encoded data removed]",
      "text/plain": [
       "<Figure size 432x288 with 1 Axes>"
      ]
     },
     "metadata": {
      "needs_background": "light"
     },
     "output_type": "display_data"
    },
    {
     "data": {
      "image/png": "[encoded data removed]",
      "text/plain": [
       "<Figure size 432x288 with 1 Axes>"
      ]
     },
     "metadata": {
      "needs_background": "light"
     },
     "output_type": "display_data"
    },
    {
     "data": {
      "image/png": "[encoded data removed]",
      "text/plain": [
       "<Figure size 432x288 with 1 Axes>"
      ]
     },
     "metadata": {
      "needs_background": "light"
     },
     "output_type": "display_data"
    },
    {
     "data": {
      "image/png": "[encoded data removed]",
      "text/plain": [
       "<Figure size 432x288 with 1 Axes>"
      ]
     },
     "metadata": {
      "needs_background": "light"
     },
     "output_type": "display_data"
    },
    {
     "data": {
      "image/png": "[encoded data removed]",
      "text/plain": [
       "<Figure size 432x288 with 1 Axes>"
      ]
     },
     "metadata": {
      "needs_background": "light"
     },
     "output_type": "display_data"
    }
   ],
   "source": [
    "from scipy.stats import skew\n",
    "print(data.skew())\n",
    "for i in data.columns:\n",
    "    plt.figure()\n",
    "    sns.distplot(data[i])\n",
    "    plt.show()"
   ]
  },
  {
   "cell_type": "code",
   "execution_count": 14,
   "metadata": {},
   "outputs": [
    {
     "data": {
      "image/png": "[encoded data removed]",
      "text/plain": [
       "<Figure size 2160x6480 with 9 Axes>"
      ]
     },
     "metadata": {
      "needs_background": "light"
     },
     "output_type": "display_data"
    }
   ],
   "source": [
    "collist=data.columns.values\n",
    "ncol=30\n",
    "nrows=14\n",
    "plt.figure(figsize=(ncol,3*ncol))\n",
    "for i in range (0,len(collist)):\n",
    "    plt.subplot(nrows,ncol,i+1)\n",
    "    sns.boxplot(data[collist[i]],color='Blue',orient='v')\n",
    "    plt.tight_layout()"
   ]
  },
  {
   "cell_type": "raw",
   "metadata": {},
   "source": [
    "we can see there are continuous values after the 75th percentile(max value) those values cannot be consider as outlier as those are continuous not an odd value, however we have some outliers in height, Shucked weight, Viscera weight, Shell weight."
   ]
  },
  {
   "cell_type": "code",
   "execution_count": 15,
   "metadata": {},
   "outputs": [
    {
     "data": {
      "text/plain": [
       "array([[1.15198011, 0.57455813, 0.43214879, ..., 0.72621157, 0.63821689,\n",
       "        1.57154357],\n",
       "       [1.15198011, 1.44898585, 1.439929  , ..., 1.20522124, 1.21298732,\n",
       "        0.91001299],\n",
       "       [1.28068972, 0.05003309, 0.12213032, ..., 0.35668983, 0.20713907,\n",
       "        0.28962385],\n",
       "       ...,\n",
       "       [1.15198011, 0.6329849 , 0.67640943, ..., 0.97541324, 0.49695471,\n",
       "        0.28962385],\n",
       "       [1.28068972, 0.84118198, 0.77718745, ..., 0.73362741, 0.41073914,\n",
       "        0.02057072],\n",
       "       [1.15198011, 1.54905203, 1.48263359, ..., 1.78744868, 1.84048058,\n",
       "        0.64095986]])"
      ]
     },
     "execution_count": 15,
     "metadata": {},
     "output_type": "execute_result"
    }
   ],
   "source": [
    "#removing outliers\n",
    "from scipy.stats import zscore\n",
    "z=np.abs(zscore(data))\n",
    "z"
   ]
  },
  {
   "cell_type": "code",
   "execution_count": 16,
   "metadata": {},
   "outputs": [
    {
     "name": "stdout",
     "output_type": "stream",
     "text": [
      "(array([   6,   72,   81,   83,  129,  163,  164,  165,  165,  165,  166,\n",
      "        166,  167,  168,  170,  181,  232,  236,  236,  236,  237,  237,\n",
      "        238,  238,  239,  270,  275,  277,  278,  294,  310,  313,  314,\n",
      "        334,  351,  355,  358,  358,  362,  375,  416,  417,  428,  431,\n",
      "        433,  469,  478,  480,  501,  526,  526,  530,  572,  628,  673,\n",
      "        674,  675,  678,  694,  696,  696,  719,  719,  720,  720,  744,\n",
      "        754,  756,  811,  891,  891,  891, 1048, 1051, 1051, 1052, 1193,\n",
      "       1197, 1199, 1202, 1204, 1206, 1206, 1207, 1207, 1207, 1207, 1209,\n",
      "       1209, 1257, 1417, 1417, 1418, 1422, 1426, 1427, 1427, 1427, 1428,\n",
      "       1429, 1429, 1528, 1754, 1756, 1757, 1759, 1761, 1762, 1762, 1762,\n",
      "       1763, 1763, 1763, 1821, 1982, 1986, 1987, 1987, 2051, 2090, 2108,\n",
      "       2108, 2114, 2114, 2157, 2161, 2176, 2180, 2199, 2201, 2208, 2209,\n",
      "       2274, 2275, 2305, 2334, 2334, 2334, 2335, 2344, 2358, 2368, 2381,\n",
      "       2436, 2459, 2471, 2544, 2623, 2624, 2624, 2624, 2625, 2709, 2710,\n",
      "       2710, 2810, 2810, 2811, 2811, 2811, 2862, 2863, 2863, 2863, 3007,\n",
      "       3008, 3140, 3148, 3149, 3149, 3151, 3151, 3188, 3193, 3280, 3359,\n",
      "       3427, 3427, 3427, 3599, 3599, 3628, 3713, 3715, 3715, 3715, 3715,\n",
      "       3800, 3837, 3899, 3899, 3902, 3924, 3930, 3944, 3961, 3962, 3996,\n",
      "       4145, 4148], dtype=int64), array([8, 8, 7, 8, 7, 7, 7, 4, 5, 7, 7, 8, 8, 7, 6, 8, 8, 1, 2, 3, 1, 2,\n",
      "       1, 2, 1, 8, 8, 7, 8, 8, 8, 8, 8, 7, 8, 8, 4, 7, 8, 8, 8, 8, 8, 8,\n",
      "       8, 8, 8, 8, 8, 1, 2, 8, 8, 8, 8, 8, 8, 8, 2, 1, 2, 1, 2, 1, 2, 8,\n",
      "       8, 8, 8, 4, 5, 7, 6, 4, 5, 4, 5, 5, 5, 5, 6, 5, 6, 4, 5, 6, 7, 4,\n",
      "       5, 3, 3, 5, 5, 6, 5, 4, 5, 6, 7, 1, 2, 5, 5, 5, 6, 6, 5, 4, 5, 6,\n",
      "       4, 5, 6, 5, 5, 1, 1, 2, 3, 7, 7, 8, 1, 2, 7, 7, 8, 8, 8, 8, 7, 8,\n",
      "       7, 8, 8, 4, 6, 8, 8, 8, 8, 7, 1, 8, 8, 8, 5, 4, 4, 5, 6, 5, 6, 5,\n",
      "       6, 5, 6, 4, 5, 6, 5, 4, 5, 6, 5, 7, 8, 7, 7, 8, 7, 8, 7, 8, 8, 8,\n",
      "       4, 5, 6, 4, 5, 6, 5, 4, 5, 6, 7, 4, 2, 1, 2, 1, 8, 8, 8, 5, 5, 3,\n",
      "       7, 6], dtype=int64))\n"
     ]
    }
   ],
   "source": [
    "threshold=3\n",
    "print(np.where(z>3))"
   ]
  },
  {
   "cell_type": "code",
   "execution_count": 17,
   "metadata": {},
   "outputs": [],
   "source": [
    "data_new=data[(z<3).all(axis=1)] "
   ]
  },
  {
   "cell_type": "code",
   "execution_count": 18,
   "metadata": {},
   "outputs": [
    {
     "data": {
      "text/html": [
       "<div>\n",
       "<style scoped>\n",
       "    .dataframe tbody tr th:only-of-type {\n",
       "        vertical-align: middle;\n",
       "    }\n",
       "\n",
       "    .dataframe tbody tr th {\n",
       "        vertical-align: top;\n",
       "    }\n",
       "\n",
       "    .dataframe thead th {\n",
       "        text-align: right;\n",
       "    }\n",
       "</style>\n",
       "<table border=\"1\" class=\"dataframe\">\n",
       "  <thead>\n",
       "    <tr style=\"text-align: right;\">\n",
       "      <th></th>\n",
       "      <th>Sex</th>\n",
       "      <th>Length</th>\n",
       "      <th>Diameter</th>\n",
       "      <th>Height</th>\n",
       "      <th>Whole weight</th>\n",
       "      <th>Shucked weight</th>\n",
       "      <th>Viscera weight</th>\n",
       "      <th>Shell weight</th>\n",
       "      <th>Rings</th>\n",
       "    </tr>\n",
       "  </thead>\n",
       "  <tbody>\n",
       "    <tr>\n",
       "      <th>0</th>\n",
       "      <td>2</td>\n",
       "      <td>0.455</td>\n",
       "      <td>0.365</td>\n",
       "      <td>0.095</td>\n",
       "      <td>0.5140</td>\n",
       "      <td>0.2245</td>\n",
       "      <td>0.1010</td>\n",
       "      <td>0.1500</td>\n",
       "      <td>15</td>\n",
       "    </tr>\n",
       "    <tr>\n",
       "      <th>1</th>\n",
       "      <td>2</td>\n",
       "      <td>0.350</td>\n",
       "      <td>0.265</td>\n",
       "      <td>0.090</td>\n",
       "      <td>0.2255</td>\n",
       "      <td>0.0995</td>\n",
       "      <td>0.0485</td>\n",
       "      <td>0.0700</td>\n",
       "      <td>7</td>\n",
       "    </tr>\n",
       "    <tr>\n",
       "      <th>2</th>\n",
       "      <td>0</td>\n",
       "      <td>0.530</td>\n",
       "      <td>0.420</td>\n",
       "      <td>0.135</td>\n",
       "      <td>0.6770</td>\n",
       "      <td>0.2565</td>\n",
       "      <td>0.1415</td>\n",
       "      <td>0.2100</td>\n",
       "      <td>9</td>\n",
       "    </tr>\n",
       "    <tr>\n",
       "      <th>3</th>\n",
       "      <td>2</td>\n",
       "      <td>0.440</td>\n",
       "      <td>0.365</td>\n",
       "      <td>0.125</td>\n",
       "      <td>0.5160</td>\n",
       "      <td>0.2155</td>\n",
       "      <td>0.1140</td>\n",
       "      <td>0.1550</td>\n",
       "      <td>10</td>\n",
       "    </tr>\n",
       "    <tr>\n",
       "      <th>4</th>\n",
       "      <td>1</td>\n",
       "      <td>0.330</td>\n",
       "      <td>0.255</td>\n",
       "      <td>0.080</td>\n",
       "      <td>0.2050</td>\n",
       "      <td>0.0895</td>\n",
       "      <td>0.0395</td>\n",
       "      <td>0.0550</td>\n",
       "      <td>7</td>\n",
       "    </tr>\n",
       "    <tr>\n",
       "      <th>...</th>\n",
       "      <td>...</td>\n",
       "      <td>...</td>\n",
       "      <td>...</td>\n",
       "      <td>...</td>\n",
       "      <td>...</td>\n",
       "      <td>...</td>\n",
       "      <td>...</td>\n",
       "      <td>...</td>\n",
       "      <td>...</td>\n",
       "    </tr>\n",
       "    <tr>\n",
       "      <th>4172</th>\n",
       "      <td>0</td>\n",
       "      <td>0.565</td>\n",
       "      <td>0.450</td>\n",
       "      <td>0.165</td>\n",
       "      <td>0.8870</td>\n",
       "      <td>0.3700</td>\n",
       "      <td>0.2390</td>\n",
       "      <td>0.2490</td>\n",
       "      <td>11</td>\n",
       "    </tr>\n",
       "    <tr>\n",
       "      <th>4173</th>\n",
       "      <td>2</td>\n",
       "      <td>0.590</td>\n",
       "      <td>0.440</td>\n",
       "      <td>0.135</td>\n",
       "      <td>0.9660</td>\n",
       "      <td>0.4390</td>\n",
       "      <td>0.2145</td>\n",
       "      <td>0.2605</td>\n",
       "      <td>10</td>\n",
       "    </tr>\n",
       "    <tr>\n",
       "      <th>4174</th>\n",
       "      <td>2</td>\n",
       "      <td>0.600</td>\n",
       "      <td>0.475</td>\n",
       "      <td>0.205</td>\n",
       "      <td>1.1760</td>\n",
       "      <td>0.5255</td>\n",
       "      <td>0.2875</td>\n",
       "      <td>0.3080</td>\n",
       "      <td>9</td>\n",
       "    </tr>\n",
       "    <tr>\n",
       "      <th>4175</th>\n",
       "      <td>0</td>\n",
       "      <td>0.625</td>\n",
       "      <td>0.485</td>\n",
       "      <td>0.150</td>\n",
       "      <td>1.0945</td>\n",
       "      <td>0.5310</td>\n",
       "      <td>0.2610</td>\n",
       "      <td>0.2960</td>\n",
       "      <td>10</td>\n",
       "    </tr>\n",
       "    <tr>\n",
       "      <th>4176</th>\n",
       "      <td>2</td>\n",
       "      <td>0.710</td>\n",
       "      <td>0.555</td>\n",
       "      <td>0.195</td>\n",
       "      <td>1.9485</td>\n",
       "      <td>0.9455</td>\n",
       "      <td>0.3765</td>\n",
       "      <td>0.4950</td>\n",
       "      <td>12</td>\n",
       "    </tr>\n",
       "  </tbody>\n",
       "</table>\n",
       "<p>4027 rows × 9 columns</p>\n",
       "</div>"
      ],
      "text/plain": [
       "      Sex  Length  Diameter  Height  Whole weight  Shucked weight  \\\n",
       "0       2   0.455     0.365   0.095        0.5140          0.2245   \n",
       "1       2   0.350     0.265   0.090        0.2255          0.0995   \n",
       "2       0   0.530     0.420   0.135        0.6770          0.2565   \n",
       "3       2   0.440     0.365   0.125        0.5160          0.2155   \n",
       "4       1   0.330     0.255   0.080        0.2050          0.0895   \n",
       "...   ...     ...       ...     ...           ...             ...   \n",
       "4172    0   0.565     0.450   0.165        0.8870          0.3700   \n",
       "4173    2   0.590     0.440   0.135        0.9660          0.4390   \n",
       "4174    2   0.600     0.475   0.205        1.1760          0.5255   \n",
       "4175    0   0.625     0.485   0.150        1.0945          0.5310   \n",
       "4176    2   0.710     0.555   0.195        1.9485          0.9455   \n",
       "\n",
       "      Viscera weight  Shell weight  Rings  \n",
       "0             0.1010        0.1500     15  \n",
       "1             0.0485        0.0700      7  \n",
       "2             0.1415        0.2100      9  \n",
       "3             0.1140        0.1550     10  \n",
       "4             0.0395        0.0550      7  \n",
       "...              ...           ...    ...  \n",
       "4172          0.2390        0.2490     11  \n",
       "4173          0.2145        0.2605     10  \n",
       "4174          0.2875        0.3080      9  \n",
       "4175          0.2610        0.2960     10  \n",
       "4176          0.3765        0.4950     12  \n",
       "\n",
       "[4027 rows x 9 columns]"
      ]
     },
     "execution_count": 18,
     "metadata": {},
     "output_type": "execute_result"
    }
   ],
   "source": [
    "data_new"
   ]
  },
  {
   "cell_type": "code",
   "execution_count": 19,
   "metadata": {},
   "outputs": [
    {
     "data": {
      "text/plain": [
       "(4027, 9)"
      ]
     },
     "execution_count": 19,
     "metadata": {},
     "output_type": "execute_result"
    }
   ],
   "source": [
    "data_new.shape"
   ]
  },
  {
   "cell_type": "code",
   "execution_count": 20,
   "metadata": {},
   "outputs": [
    {
     "data": {
      "text/plain": [
       "(4177, 9)"
      ]
     },
     "execution_count": 20,
     "metadata": {},
     "output_type": "execute_result"
    }
   ],
   "source": [
    "data.shape"
   ]
  },
  {
   "cell_type": "code",
   "execution_count": 21,
   "metadata": {},
   "outputs": [
    {
     "name": "stdout",
     "output_type": "stream",
     "text": [
      "3.5910940866650707\n"
     ]
    }
   ],
   "source": [
    "#Percentage data loss:\n",
    "loss_percent=(4177-4027)/4177*100\n",
    "print(loss_percent)"
   ]
  },
  {
   "cell_type": "code",
   "execution_count": 22,
   "metadata": {},
   "outputs": [
    {
     "name": "stdout",
     "output_type": "stream",
     "text": [
      "(4027, 8)\n",
      "(4027,)\n"
     ]
    }
   ],
   "source": [
    "x=data_new.drop('Rings', axis=1)\n",
    "y=data_new['Rings']\n",
    "print(x.shape)\n",
    "print(y.shape)"
   ]
  },
  {
   "cell_type": "code",
   "execution_count": 23,
   "metadata": {},
   "outputs": [],
   "source": [
    "from sklearn.preprocessing import power_transform\n",
    "data_new=power_transform(x)\n",
    "\n",
    "data_new=pd.DataFrame(data_new,columns=x.columns)"
   ]
  },
  {
   "cell_type": "code",
   "execution_count": 24,
   "metadata": {},
   "outputs": [
    {
     "data": {
      "text/plain": [
       "Sex              -0.174523\n",
       "Length           -0.082985\n",
       "Diameter         -0.080956\n",
       "Height           -0.015962\n",
       "Whole weight     -0.016797\n",
       "Shucked weight    0.021815\n",
       "Viscera weight    0.035902\n",
       "Shell weight      0.016660\n",
       "dtype: float64"
      ]
     },
     "execution_count": 24,
     "metadata": {},
     "output_type": "execute_result"
    }
   ],
   "source": [
    "data_new.skew()"
   ]
  },
  {
   "cell_type": "raw",
   "metadata": {},
   "source": [
    "Skewness has now been reduced."
   ]
  },
  {
   "cell_type": "code",
   "execution_count": 25,
   "metadata": {},
   "outputs": [],
   "source": [
    "x=data_new"
   ]
  },
  {
   "cell_type": "code",
   "execution_count": 26,
   "metadata": {},
   "outputs": [
    {
     "data": {
      "text/plain": [
       "(4027, 8)"
      ]
     },
     "execution_count": 26,
     "metadata": {},
     "output_type": "execute_result"
    }
   ],
   "source": [
    "x.shape"
   ]
  },
  {
   "cell_type": "code",
   "execution_count": 27,
   "metadata": {},
   "outputs": [
    {
     "data": {
      "text/plain": [
       "(4027,)"
      ]
     },
     "execution_count": 27,
     "metadata": {},
     "output_type": "execute_result"
    }
   ],
   "source": [
    "y.shape"
   ]
  },
  {
   "cell_type": "code",
   "execution_count": 28,
   "metadata": {},
   "outputs": [
    {
     "name": "stdout",
     "output_type": "stream",
     "text": [
      "Best accuracy is  0.24689826302729528  on Random State  150\n"
     ]
    }
   ],
   "source": [
    "maxAccu=0\n",
    "maxRS=0\n",
    "for i in range(1,200):\n",
    "    x_train,x_test,y_train,y_test=train_test_split(x,y,test_size=.20,random_state=i)\n",
    "    DTC=DecisionTreeClassifier()\n",
    "    DTC.fit(x_train,y_train)\n",
    "    pred=DTC.predict(x_test)\n",
    "    acc=accuracy_score(y_test,pred)\n",
    "    if acc>maxAccu:\n",
    "        maxAccu=acc\n",
    "        maxRS=i\n",
    "print(\"Best accuracy is \",maxAccu, \" on Random State \",maxRS)"
   ]
  },
  {
   "cell_type": "code",
   "execution_count": 29,
   "metadata": {},
   "outputs": [],
   "source": [
    "x_train,x_test,y_train,y_test=train_test_split(x,y,test_size=.20,random_state=maxRS)"
   ]
  },
  {
   "cell_type": "code",
   "execution_count": 30,
   "metadata": {
    "scrolled": false
   },
   "outputs": [
    {
     "name": "stdout",
     "output_type": "stream",
     "text": [
      "Accuracy Score of GaussianNB() is:\n",
      "0.2518610421836228\n",
      "[[ 0  0  0  0  0  0  0  0  0  0  0  0  0  0  0  0  0]\n",
      " [ 5  6  3  0  0  0  0  0  0  0  0  0  0  0  0  0  0]\n",
      " [ 5  9  7  3  0  0  0  0  0  0  0  0  0  0  0  0  0]\n",
      " [ 0  3 12 28 11  1  0  1  0  0  0  0  0  0  0  0  0]\n",
      " [ 0  1 12 19 31  8  4  1  1  0  0  0  0  0  0  0  0]\n",
      " [ 0  0  3 11 17 34 29  6  9  0  0  0  0  0  0  0  0]\n",
      " [ 0  0  1  7  9 31 36 19 36  0  0  0  0  0  0  0  0]\n",
      " [ 0  0  0  2 13 13 28 16 53  0  0  0  0  0  0  0  0]\n",
      " [ 0  0  2  2 10 17 17  8 45  0  0  0  0  0  0  0  0]\n",
      " [ 0  0  0  1  6  9  6  6 21  0  0  0  0  0  0  0  0]\n",
      " [ 0  0  0  0  4  6  7  5 17  0  0  0  0  0  0  0  0]\n",
      " [ 0  0  0  0  3  0  5  5  3  0  0  0  0  0  1  0  0]\n",
      " [ 0  0  0  0  1  6  2  4  7  0  0  0  0  0  0  0  0]\n",
      " [ 0  0  0  0  2  0  2  3  5  0  0  0  0  0  1  0  0]\n",
      " [ 0  0  0  0  0  0  3  1  2  0  0  0  0  0  0  0  0]\n",
      " [ 0  0  0  0  1  0  1  1  4  0  0  0  0  0  0  0  0]\n",
      " [ 0  0  0  0  1  0  2  3  4  0  0  0  0  0  0  0  0]]\n",
      "              precision    recall  f1-score   support\n",
      "\n",
      "           3       0.00      0.00      0.00         0\n",
      "           4       0.32      0.43      0.36        14\n",
      "           5       0.17      0.29      0.22        24\n",
      "           6       0.38      0.50      0.43        56\n",
      "           7       0.28      0.40      0.33        77\n",
      "           8       0.27      0.31      0.29       109\n",
      "           9       0.25      0.26      0.26       139\n",
      "          10       0.20      0.13      0.16       125\n",
      "          11       0.22      0.45      0.29       101\n",
      "          12       0.00      0.00      0.00        49\n",
      "          13       0.00      0.00      0.00        39\n",
      "          14       0.00      0.00      0.00        17\n",
      "          15       0.00      0.00      0.00        20\n",
      "          16       0.00      0.00      0.00        13\n",
      "          17       0.00      0.00      0.00         6\n",
      "          18       0.00      0.00      0.00         7\n",
      "          19       0.00      0.00      0.00        10\n",
      "\n",
      "    accuracy                           0.25       806\n",
      "   macro avg       0.12      0.16      0.14       806\n",
      "weighted avg       0.20      0.25      0.22       806\n",
      "\n",
      "\n",
      "\n",
      "Accuracy Score of SVC() is:\n",
      "0.2655086848635236\n",
      "[[ 0 10  4  0  0  0  0  0  0  0  0  0  0  0  0  0]\n",
      " [ 0 13  8  3  0  0  0  0  0  0  0  0  0  0  0  0]\n",
      " [ 0  3 10 36  6  1  0  0  0  0  0  0  0  0  0  0]\n",
      " [ 0  1 11 33 20 11  1  0  0  0  0  0  0  0  0  0]\n",
      " [ 0  0  3 14 38 48  6  0  0  0  0  0  0  0  0  0]\n",
      " [ 0  0  0  8 28 61 34  8  0  0  0  0  0  0  0  0]\n",
      " [ 0  0  0  3 14 47 42 19  0  0  0  0  0  0  0  0]\n",
      " [ 0  0  1  5 13 32 33 17  0  0  0  0  0  0  0  0]\n",
      " [ 0  0  0  1  6 14 20  8  0  0  0  0  0  0  0  0]\n",
      " [ 0  0  0  0  4 13 10 12  0  0  0  0  0  0  0  0]\n",
      " [ 0  0  0  0  3  5  6  2  0  1  0  0  0  0  0  0]\n",
      " [ 0  0  0  0  2  4 10  4  0  0  0  0  0  0  0  0]\n",
      " [ 0  0  0  0  1  2  9  1  0  0  0  0  0  0  0  0]\n",
      " [ 0  0  0  0  0  2  3  1  0  0  0  0  0  0  0  0]\n",
      " [ 0  0  0  0  0  1  6  0  0  0  0  0  0  0  0  0]\n",
      " [ 0  0  0  0  1  2  4  3  0  0  0  0  0  0  0  0]]\n",
      "              precision    recall  f1-score   support\n",
      "\n",
      "           4       0.00      0.00      0.00        14\n",
      "           5       0.48      0.54      0.51        24\n",
      "           6       0.27      0.18      0.22        56\n",
      "           7       0.32      0.43      0.37        77\n",
      "           8       0.28      0.35      0.31       109\n",
      "           9       0.25      0.44      0.32       139\n",
      "          10       0.23      0.34      0.27       125\n",
      "          11       0.23      0.17      0.19       101\n",
      "          12       0.00      0.00      0.00        49\n",
      "          13       0.00      0.00      0.00        39\n",
      "          14       0.00      0.00      0.00        17\n",
      "          15       0.00      0.00      0.00        20\n",
      "          16       0.00      0.00      0.00        13\n",
      "          17       0.00      0.00      0.00         6\n",
      "          18       0.00      0.00      0.00         7\n",
      "          19       0.00      0.00      0.00        10\n",
      "\n",
      "    accuracy                           0.27       806\n",
      "   macro avg       0.13      0.15      0.14       806\n",
      "weighted avg       0.21      0.27      0.23       806\n",
      "\n",
      "\n",
      "\n",
      "Accuracy Score of KNeighborsClassifier() is:\n",
      "0.24689826302729528\n",
      "[[ 0  0  0  0  0  0  0  0  0  0  0  0  0  0  0  0  0]\n",
      " [ 2  5  4  3  0  0  0  0  0  0  0  0  0  0  0  0  0]\n",
      " [ 2  7  7  5  3  0  0  0  0  0  0  0  0  0  0  0  0]\n",
      " [ 0  1  4 24 23  2  2  0  0  0  0  0  0  0  0  0  0]\n",
      " [ 0  0  3 18 23 21  7  3  1  0  1  0  0  0  0  0  0]\n",
      " [ 0  0  2  7 17 40 28  9  3  3  0  0  0  0  0  0  0]\n",
      " [ 0  0  0  0 20 22 45 30 15  5  0  0  2  0  0  0  0]\n",
      " [ 0  0  0  3  2 17 49 29 17  6  1  0  0  0  1  0  0]\n",
      " [ 0  0  0  2  8 17 31 17 21  1  3  0  1  0  0  0  0]\n",
      " [ 0  0  0  0  2  4 14  9 15  2  2  0  0  0  1  0  0]\n",
      " [ 0  0  0  0  2  5 10  9  7  4  1  0  0  1  0  0  0]\n",
      " [ 0  0  0  0  2  3  1  4  0  3  0  2  0  1  1  0  0]\n",
      " [ 0  0  0  0  0  4  3  3  3  3  3  0  0  1  0  0  0]\n",
      " [ 0  0  0  0  0  0  6  1  3  0  0  0  1  0  2  0  0]\n",
      " [ 0  0  0  0  0  0  1  2  0  1  1  1  0  0  0  0  0]\n",
      " [ 0  0  0  0  0  1  2  3  1  0  0  0  0  0  0  0  0]\n",
      " [ 0  0  0  1  0  0  1  3  3  0  1  0  1  0  0  0  0]]\n",
      "              precision    recall  f1-score   support\n",
      "\n",
      "           3       0.00      0.00      0.00         0\n",
      "           4       0.38      0.36      0.37        14\n",
      "           5       0.35      0.29      0.32        24\n",
      "           6       0.38      0.43      0.40        56\n",
      "           7       0.23      0.30      0.26        77\n",
      "           8       0.29      0.37      0.33       109\n",
      "           9       0.23      0.32      0.27       139\n",
      "          10       0.24      0.23      0.23       125\n",
      "          11       0.24      0.21      0.22       101\n",
      "          12       0.07      0.04      0.05        49\n",
      "          13       0.08      0.03      0.04        39\n",
      "          14       0.67      0.12      0.20        17\n",
      "          15       0.00      0.00      0.00        20\n",
      "          16       0.00      0.00      0.00        13\n",
      "          17       0.00      0.00      0.00         6\n",
      "          18       0.00      0.00      0.00         7\n",
      "          19       0.00      0.00      0.00        10\n",
      "\n",
      "    accuracy                           0.25       806\n",
      "   macro avg       0.19      0.16      0.16       806\n",
      "weighted avg       0.23      0.25      0.23       806\n",
      "\n",
      "\n",
      "\n",
      "Accuracy Score of RandomForestClassifier() is:\n",
      "0.2704714640198511\n",
      "[[ 5  6  3  0  0  0  0  0  0  0  0  0  0  0  0  0]\n",
      " [ 4  8  6  6  0  0  0  0  0  0  0  0  0  0  0  0]\n",
      " [ 0  4 12 30  8  1  1  0  0  0  0  0  0  0  0  0]\n",
      " [ 0  0 10 31 19  9  6  1  1  0  0  0  0  0  0  0]\n",
      " [ 0  1  5 15 39 30 16  2  1  0  0  0  0  0  0  0]\n",
      " [ 0  0  1 10 21 54 39 12  2  0  0  0  0  0  0  0]\n",
      " [ 0  0  1  4 10 39 39 21  6  3  1  1  0  0  0  0]\n",
      " [ 0  0  0  6 11 29 25 23  2  4  1  0  0  0  0  0]\n",
      " [ 0  0  0  2  2  9 14 12  3  4  2  0  1  0  0  0]\n",
      " [ 0  0  0  0  4  7 10  8  4  2  0  1  0  1  1  1]\n",
      " [ 0  0  0  1  3  4  2  2  0  3  1  1  0  0  0  0]\n",
      " [ 0  0  0  0  1  2  4  4  3  4  1  1  0  0  0  0]\n",
      " [ 0  0  0  0  0  1  2  2  1  3  1  1  0  2  0  0]\n",
      " [ 0  0  0  0  0  0  3  0  0  1  1  1  0  0  0  0]\n",
      " [ 0  0  0  0  0  3  2  0  1  1  0  0  0  0  0  0]\n",
      " [ 0  0  0  0  0  2  3  1  1  3  0  0  0  0  0  0]]\n",
      "              precision    recall  f1-score   support\n",
      "\n",
      "           4       0.56      0.36      0.43        14\n",
      "           5       0.42      0.33      0.37        24\n",
      "           6       0.32      0.21      0.26        56\n",
      "           7       0.30      0.40      0.34        77\n",
      "           8       0.33      0.36      0.34       109\n",
      "           9       0.28      0.39      0.33       139\n",
      "          10       0.23      0.31      0.27       125\n",
      "          11       0.26      0.23      0.24       101\n",
      "          12       0.12      0.06      0.08        49\n",
      "          13       0.07      0.05      0.06        39\n",
      "          14       0.12      0.06      0.08        17\n",
      "          15       0.17      0.05      0.08        20\n",
      "          16       0.00      0.00      0.00        13\n",
      "          17       0.00      0.00      0.00         6\n",
      "          18       0.00      0.00      0.00         7\n",
      "          19       0.00      0.00      0.00        10\n",
      "\n",
      "    accuracy                           0.27       806\n",
      "   macro avg       0.20      0.18      0.18       806\n",
      "weighted avg       0.25      0.27      0.26       806\n",
      "\n",
      "\n",
      "\n",
      "Accuracy Score of AdaBoostClassifier() is:\n",
      "0.18610421836228289\n",
      "[[ 0  0 14  0  0  0  0  0  0  0  0  0  0  0  0  0]\n",
      " [ 0  0 21  3  0  0  0  0  0  0  0  0  0  0  0  0]\n",
      " [ 0  0 11 41  0  3  0  0  0  0  0  0  0  0  0  1]\n",
      " [ 0  0  9 55  0 11  1  0  0  0  0  0  0  0  0  1]\n",
      " [ 0  0  4 29  0 60  6  0  0  0  0  0  0  0  0 10]\n",
      " [ 0  0  1 15  0 67 14  0  0  0  0  0  0  0  0 42]\n",
      " [ 0  0  0 10  0 41 10  0  0  0  0  0  0  0  0 64]\n",
      " [ 0  0  1 10  0 30 12  0  0  0  0  0  0  0  0 48]\n",
      " [ 0  0  0  6  0 14  2  0  0  0  0  0  0  0  0 27]\n",
      " [ 0  0  0  3  0 11  3  0  0  0  0  0  0  0  0 22]\n",
      " [ 0  0  0  1  0  3  4  0  0  0  0  0  0  0  0  9]\n",
      " [ 0  0  0  1  0  8  2  0  0  0  0  0  0  0  0  9]\n",
      " [ 0  0  0  1  0  1  0  0  0  0  0  0  0  0  0 11]\n",
      " [ 0  0  0  0  0  1  2  0  0  0  0  0  0  0  0  3]\n",
      " [ 0  0  0  1  0  0  1  0  0  0  0  0  0  0  0  5]\n",
      " [ 0  0  0  0  0  1  2  0  0  0  0  0  0  0  0  7]]\n",
      "              precision    recall  f1-score   support\n",
      "\n",
      "           4       0.00      0.00      0.00        14\n",
      "           5       0.00      0.00      0.00        24\n",
      "           6       0.18      0.20      0.19        56\n",
      "           7       0.31      0.71      0.43        77\n",
      "           8       0.00      0.00      0.00       109\n",
      "           9       0.27      0.48      0.34       139\n",
      "          10       0.17      0.08      0.11       125\n",
      "          11       0.00      0.00      0.00       101\n",
      "          12       0.00      0.00      0.00        49\n",
      "          13       0.00      0.00      0.00        39\n",
      "          14       0.00      0.00      0.00        17\n",
      "          15       0.00      0.00      0.00        20\n",
      "          16       0.00      0.00      0.00        13\n",
      "          17       0.00      0.00      0.00         6\n",
      "          18       0.00      0.00      0.00         7\n",
      "          19       0.03      0.70      0.05        10\n",
      "\n",
      "    accuracy                           0.19       806\n",
      "   macro avg       0.06      0.14      0.07       806\n",
      "weighted avg       0.12      0.19      0.13       806\n",
      "\n",
      "\n",
      "\n"
     ]
    }
   ],
   "source": [
    "model=[GaussianNB(),SVC(),KNeighborsClassifier(),RandomForestClassifier(),AdaBoostClassifier()]\n",
    "\n",
    "for m in model:\n",
    "    m.fit(x_train,y_train)\n",
    "    m.score(x_train,y_train)\n",
    "    predm=m.predict(x_test)\n",
    "    print('Accuracy Score of',m,'is:')\n",
    "    print(accuracy_score(y_test,predm))\n",
    "    print(confusion_matrix(y_test,predm))\n",
    "    print(classification_report(y_test,predm))\n",
    "    print('\\n')"
   ]
  },
  {
   "cell_type": "code",
   "execution_count": 31,
   "metadata": {},
   "outputs": [
    {
     "name": "stdout",
     "output_type": "stream",
     "text": [
      "Score for GaussianNB() is : 0.2369159872385679\n",
      "Score for SVC() is : 0.26993172325570647\n",
      "Score for KNeighborsClassifier() is : 0.2192722284727895\n",
      "Score for RandomForestClassifier() is : 0.24758411294175672\n",
      "Score for AdaBoostClassifier() is : 0.17904998227578875\n"
     ]
    }
   ],
   "source": [
    "model=[GaussianNB(),SVC(),KNeighborsClassifier(),RandomForestClassifier(), AdaBoostClassifier()]\n",
    "for m in model:\n",
    "    score=cross_val_score(m,x,y,cv=5)\n",
    "    print(\"Score for\",m,\"is :\",score.mean())"
   ]
  },
  {
   "cell_type": "raw",
   "metadata": {},
   "source": [
    "Best model is SVC as there is very less differece model and cross validation compare to other models."
   ]
  },
  {
   "cell_type": "markdown",
   "metadata": {},
   "source": [
    "# Hyper parameter tunning:"
   ]
  },
  {
   "cell_type": "code",
   "execution_count": 32,
   "metadata": {},
   "outputs": [],
   "source": [
    "from sklearn.model_selection import GridSearchCV\n",
    "#creating  parameter list to pass in GridSearchCV\n",
    "parameters=[{'kernel': ['rbf'], 'gamma': [1e-3, 1e-4],\n",
    "                     'C': [1, 10, 100, 1000]},\n",
    "                    {'kernel': ['linear'], 'C': [1, 10, 100, 1000]}]"
   ]
  },
  {
   "cell_type": "code",
   "execution_count": 33,
   "metadata": {},
   "outputs": [],
   "source": [
    "GCV=GridSearchCV(SVC(),parameters,cv=5)"
   ]
  },
  {
   "cell_type": "code",
   "execution_count": 34,
   "metadata": {},
   "outputs": [
    {
     "data": {
      "text/plain": [
       "GridSearchCV(cv=5, estimator=SVC(),\n",
       "             param_grid=[{'C': [1, 10, 100, 1000], 'gamma': [0.001, 0.0001],\n",
       "                          'kernel': ['rbf']},\n",
       "                         {'C': [1, 10, 100, 1000], 'kernel': ['linear']}])"
      ]
     },
     "execution_count": 34,
     "metadata": {},
     "output_type": "execute_result"
    }
   ],
   "source": [
    "GCV.fit(x_train,y_train)"
   ]
  },
  {
   "cell_type": "code",
   "execution_count": 35,
   "metadata": {},
   "outputs": [
    {
     "data": {
      "text/plain": [
       "{'C': 10, 'kernel': 'linear'}"
      ]
     },
     "execution_count": 35,
     "metadata": {},
     "output_type": "execute_result"
    }
   ],
   "source": [
    "GCV.best_params_"
   ]
  },
  {
   "cell_type": "code",
   "execution_count": 36,
   "metadata": {},
   "outputs": [],
   "source": [
    "GCV_pred=GCV.best_estimator_.predict(x_test) "
   ]
  },
  {
   "cell_type": "code",
   "execution_count": 37,
   "metadata": {},
   "outputs": [
    {
     "data": {
      "text/plain": [
       "array([10,  8, 13, 10,  8, 10,  9, 10,  8,  7, 10, 10,  6, 10, 10,  9,  9,\n",
       "       10,  6,  9,  8,  9,  8,  9, 10,  9,  9, 10,  8,  6,  7, 11,  7, 10,\n",
       "       10,  4, 10, 10, 10, 10,  9, 10,  7,  9,  7,  9, 13,  9,  8,  9,  5,\n",
       "        9,  6,  9,  9, 10,  7,  4,  9,  8, 10, 10,  9,  6,  9, 10,  9,  7,\n",
       "       10,  8, 10,  8,  9,  9,  6,  9,  8, 13,  9,  7, 10,  8,  9, 13, 10,\n",
       "        7, 11,  6,  6,  8, 10,  9, 10,  9,  7, 10, 10, 13, 10,  9, 10,  7,\n",
       "        7,  8,  5,  9,  6,  8,  9,  9,  9, 10, 10,  6,  9,  9,  8, 10,  8,\n",
       "        9,  7,  7,  9,  9,  9,  9,  9,  9, 10, 10,  7,  7, 10, 10, 13,  4,\n",
       "       13,  6,  9,  6,  4,  9,  9, 10,  6, 10,  9, 13, 10,  8,  9,  7,  9,\n",
       "       10, 10,  9,  9, 10, 13, 10,  7,  6, 10,  8, 10, 10,  8, 13, 10, 11,\n",
       "        8,  6,  6, 13,  6,  6, 10,  9,  9,  9,  8,  9, 10, 10, 10,  8,  8,\n",
       "        9,  9,  8,  8, 10, 10,  9, 10, 13,  4,  7,  5, 10, 10, 10,  9, 10,\n",
       "        8,  8,  7, 10,  8,  7,  8, 10, 13,  4, 10,  6, 10, 10, 10,  8,  8,\n",
       "        6, 10,  9,  9,  8,  9, 10,  9, 10,  9,  9, 10,  9,  7,  8,  6, 10,\n",
       "        8,  8, 10,  9,  8, 10,  7,  8,  9, 10,  9,  8,  9, 10,  9,  6, 10,\n",
       "        8,  7,  8,  6,  7,  9,  8,  7,  9,  9,  6,  9,  9,  4,  8,  8, 11,\n",
       "        8,  7, 10, 10,  7,  7,  9,  9, 13,  6,  9,  8,  8,  9,  8, 10, 10,\n",
       "       10,  9,  7, 10,  9, 11,  9,  9,  6, 10,  7, 10,  9,  8, 10,  8,  7,\n",
       "        9, 10, 10,  8,  6,  6,  8,  9,  8,  7,  9, 11, 10,  9,  8,  8,  9,\n",
       "        7,  8,  8,  9, 10,  9, 10,  8,  9, 10,  9,  6, 11, 10,  9,  8, 10,\n",
       "       10, 10,  8,  9, 10,  9,  9,  7,  9,  8,  8,  9,  8,  9, 11,  9, 10,\n",
       "        9, 10,  7, 10, 11, 10,  9,  9,  6,  5,  8,  9, 10, 10,  7,  9,  7,\n",
       "       11,  8,  9,  7, 10,  8,  8,  6,  9,  9,  8,  8, 10,  9,  8,  7, 10,\n",
       "        9,  7, 10, 13, 10,  6, 10,  6,  9,  6,  7, 10,  8,  9,  7,  9,  6,\n",
       "       10,  6,  8,  7, 10, 10,  8,  7,  9, 13,  7, 10,  9,  6, 10, 10,  9,\n",
       "        5,  7, 11, 10, 10, 13, 10,  7,  9,  8,  5,  6,  9, 10, 13,  7,  8,\n",
       "       10,  9, 10, 10, 10, 10, 10,  9,  8,  7, 13, 10,  4,  7, 10, 10, 10,\n",
       "        5, 10,  9,  8,  9,  7,  7, 10,  8,  9, 10, 11, 11,  8,  9, 10, 10,\n",
       "        9,  9,  9,  9,  7, 11,  8,  6,  8,  7,  8,  8,  8, 10,  6,  9, 10,\n",
       "        8, 10,  9,  6,  9,  9, 10,  8,  7,  8,  8,  7, 11, 10, 10, 10,  7,\n",
       "        9, 11,  7, 10, 10,  9, 10,  9,  5, 10,  9,  7,  8,  6, 10,  9,  7,\n",
       "       10,  9,  7,  5,  9,  7,  7,  9,  9,  9, 10, 10,  8,  8, 13, 13, 10,\n",
       "       10, 10,  9, 10, 10, 10, 11, 10,  8,  5,  8,  7, 10, 13, 10,  8,  9,\n",
       "       10,  9,  8,  9,  8,  9,  9,  8,  7,  9,  9,  6,  9, 10,  9, 11, 10,\n",
       "        7,  7,  5,  9, 10,  7,  9, 10, 10, 10,  6,  5,  7, 11,  8,  9, 10,\n",
       "        8, 13, 10,  9, 13,  6, 10, 11,  6, 10,  9,  8,  9,  8,  8,  7,  8,\n",
       "        9,  9,  6,  7, 13,  6, 10,  8, 13,  6, 11,  7, 10, 10,  8, 10, 10,\n",
       "       10,  8, 10, 10, 10,  8,  9,  8,  7, 10,  8, 11,  5,  7,  6,  9, 10,\n",
       "        9,  6,  9, 10,  9, 13, 10,  9,  8, 10,  7, 11,  7, 10,  9,  9, 10,\n",
       "       10,  4,  7,  6, 10,  8,  7,  8,  8,  9, 10,  9,  8,  9,  9,  9, 10,\n",
       "        9,  9,  7, 10,  8,  7,  4, 10, 10,  6,  9,  7, 10,  8, 10,  5, 10,\n",
       "       10, 10,  9, 11, 10,  6,  4,  9,  9, 11, 10,  7,  8,  9,  7,  9, 11,\n",
       "       10, 10,  5, 10,  9,  6, 10, 10,  7, 10,  6,  7, 10, 10,  8, 10,  8,\n",
       "        9,  9,  4, 13,  4, 10,  9,  9,  9,  8,  9,  7, 11,  9,  8,  8,  7,\n",
       "       10,  6,  9,  8, 10,  8,  9,  7, 11,  9,  8, 10,  8,  9,  8,  4,  9,\n",
       "        7,  8,  8,  7,  8, 13,  9,  9,  8,  9,  7, 10, 10, 10,  7,  9,  9,\n",
       "        9, 10,  9,  9,  9, 13, 10, 10,  8,  6, 10,  9, 10,  9,  9,  5,  8,\n",
       "       10,  8,  9, 10,  9,  8,  8], dtype=int64)"
      ]
     },
     "execution_count": 37,
     "metadata": {},
     "output_type": "execute_result"
    }
   ],
   "source": [
    "GCV_pred"
   ]
  },
  {
   "cell_type": "code",
   "execution_count": 38,
   "metadata": {},
   "outputs": [
    {
     "data": {
      "text/plain": [
       "0.29152437131325676"
      ]
     },
     "execution_count": 38,
     "metadata": {},
     "output_type": "execute_result"
    }
   ],
   "source": [
    "GCV.score(x_train,y_train)"
   ]
  },
  {
   "cell_type": "raw",
   "metadata": {},
   "source": [
    "Accuracy has been improved from 26.99% to 29.15%"
   ]
  },
  {
   "cell_type": "markdown",
   "metadata": {},
   "source": [
    "# Saving model"
   ]
  },
  {
   "cell_type": "code",
   "execution_count": 39,
   "metadata": {},
   "outputs": [
    {
     "data": {
      "text/plain": [
       "['GCVAbalone.obj']"
      ]
     },
     "execution_count": 39,
     "metadata": {},
     "output_type": "execute_result"
    }
   ],
   "source": [
    "import joblib\n",
    "joblib.dump(GCV,\"GCVAbalone.obj\")"
   ]
  },
  {
   "cell_type": "code",
   "execution_count": 40,
   "metadata": {},
   "outputs": [
    {
     "data": {
      "text/plain": [
       "array([ 5,  7,  9, ...,  7, 10, 10], dtype=int64)"
      ]
     },
     "execution_count": 40,
     "metadata": {},
     "output_type": "execute_result"
    }
   ],
   "source": [
    "GCVfile=joblib.load(\"GCVAbalone.obj\")\n",
    "GCVfile.predict(x_train)"
   ]
  },
  {
   "cell_type": "code",
   "execution_count": null,
   "metadata": {},
   "outputs": [],
   "source": []
  },
  {
   "cell_type": "code",
   "execution_count": null,
   "metadata": {},
   "outputs": [],
   "source": []
  },
  {
   "cell_type": "code",
   "execution_count": null,
   "metadata": {},
   "outputs": [],
   "source": []
  }
 ],
 "metadata": {
  "kernelspec": {
   "display_name": "Python 3",
   "language": "python",
   "name": "python3"
  },
  "language_info": {
   "codemirror_mode": {
    "name": "ipython",
    "version": 3
   },
   "file_extension": ".py",
   "mimetype": "text/x-python",
   "name": "python",
   "nbconvert_exporter": "python",
   "pygments_lexer": "ipython3",
   "version": "3.8.3"
  }
 },
 "nbformat": 4,
 "nbformat_minor": 4
}
